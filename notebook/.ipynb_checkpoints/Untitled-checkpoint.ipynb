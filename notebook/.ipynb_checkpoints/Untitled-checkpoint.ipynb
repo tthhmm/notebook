{
 "cells": [
  {
   "cell_type": "code",
   "execution_count": 68,
   "metadata": {
    "collapsed": true
   },
   "outputs": [],
   "source": [
    "import numpy as np\n",
    "from sklearn import linear_model\n",
    "from __future__ import print_function"
   ]
  },
  {
   "cell_type": "code",
   "execution_count": 2,
   "metadata": {
    "collapsed": false
   },
   "outputs": [],
   "source": [
    "n_samples, n_features = 10, 5\n",
    "np.random.seed(0)\n",
    "y = np.random.randn(n_samples)\n",
    "X = np.random.randn(n_samples, n_features)\n"
   ]
  },
  {
   "cell_type": "code",
   "execution_count": 3,
   "metadata": {
    "collapsed": false
   },
   "outputs": [
    {
     "name": "stdout",
     "output_type": "stream",
     "text": [
      "(10, 5) (10,)\n"
     ]
    }
   ],
   "source": [
    "print(X.shape, y.shape)"
   ]
  },
  {
   "cell_type": "code",
   "execution_count": 4,
   "metadata": {
    "collapsed": true
   },
   "outputs": [],
   "source": [
    "clf = linear_model.SGDRegressor()\n"
   ]
  },
  {
   "cell_type": "code",
   "execution_count": 5,
   "metadata": {
    "collapsed": false
   },
   "outputs": [
    {
     "data": {
      "text/plain": [
       "SGDRegressor(alpha=0.0001, average=False, epsilon=0.1, eta0=0.01,\n",
       "       fit_intercept=True, l1_ratio=0.15, learning_rate='invscaling',\n",
       "       loss='squared_loss', n_iter=5, penalty='l2', power_t=0.25,\n",
       "       random_state=None, shuffle=True, verbose=0, warm_start=False)"
      ]
     },
     "execution_count": 5,
     "metadata": {},
     "output_type": "execute_result"
    }
   ],
   "source": [
    "clf.fit(X, y)"
   ]
  },
  {
   "cell_type": "code",
   "execution_count": 6,
   "metadata": {
    "collapsed": false
   },
   "outputs": [
    {
     "data": {
      "text/plain": [
       "10.511309694328974"
      ]
     },
     "execution_count": 6,
     "metadata": {},
     "output_type": "execute_result"
    }
   ],
   "source": [
    "((clf.predict(X) - y)**2).sum()"
   ]
  },
  {
   "cell_type": "code",
   "execution_count": 7,
   "metadata": {
    "collapsed": false
   },
   "outputs": [
    {
     "data": {
      "text/plain": [
       "9.3524220050028379"
      ]
     },
     "execution_count": 7,
     "metadata": {},
     "output_type": "execute_result"
    }
   ],
   "source": [
    "((y.mean() - y)**2).sum()"
   ]
  },
  {
   "cell_type": "code",
   "execution_count": 8,
   "metadata": {
    "collapsed": false
   },
   "outputs": [],
   "source": [
    "import matplotlib.pyplot as plt "
   ]
  },
  {
   "cell_type": "code",
   "execution_count": 9,
   "metadata": {
    "collapsed": true
   },
   "outputs": [],
   "source": [
    "%matplotlib inline"
   ]
  },
  {
   "cell_type": "code",
   "execution_count": 11,
   "metadata": {
    "collapsed": false
   },
   "outputs": [
    {
     "data": {
      "text/plain": [
       "[<matplotlib.lines.Line2D at 0x7f41ca8e3650>]"
      ]
     },
     "execution_count": 11,
     "metadata": {},
     "output_type": "execute_result"
    },
    {
     "data": {
      "image/png": "[encoded data removed]",
      "text/plain": [
       "<matplotlib.figure.Figure at 0x7f41caba2990>"
      ]
     },
     "metadata": {},
     "output_type": "display_data"
    }
   ],
   "source": [
    "plt.plot(clf.predict(X), y)"
   ]
  },
  {
   "cell_type": "code",
   "execution_count": 18,
   "metadata": {
    "collapsed": false
   },
   "outputs": [
    {
     "name": "stdout",
     "output_type": "stream",
     "text": [
      "[0 1 2 3 4 5 6 7 8 9]\n"
     ]
    }
   ],
   "source": [
    "arr = np.arange(10)\n",
    "print(arr)"
   ]
  },
  {
   "cell_type": "code",
   "execution_count": 19,
   "metadata": {
    "collapsed": true
   },
   "outputs": [],
   "source": [
    "np.random.shuffle(arr)"
   ]
  },
  {
   "cell_type": "code",
   "execution_count": 20,
   "metadata": {
    "collapsed": false
   },
   "outputs": [
    {
     "name": "stdout",
     "output_type": "stream",
     "text": [
      "[5 9 8 7 1 3 6 0 2 4]\n"
     ]
    }
   ],
   "source": [
    "print(arr)"
   ]
  },
  {
   "cell_type": "code",
   "execution_count": 21,
   "metadata": {
    "collapsed": false
   },
   "outputs": [
    {
     "name": "stdout",
     "output_type": "stream",
     "text": [
      "[5 9 8 7 1 3 6 0 2 4]\n"
     ]
    }
   ],
   "source": [
    "m = np.arange(10) * 10\n",
    "print(arr)"
   ]
  },
  {
   "cell_type": "code",
   "execution_count": 22,
   "metadata": {
    "collapsed": false
   },
   "outputs": [
    {
     "data": {
      "text/plain": [
       "array([50, 90, 80, 70, 10, 30, 60,  0, 20, 40])"
      ]
     },
     "execution_count": 22,
     "metadata": {},
     "output_type": "execute_result"
    }
   ],
   "source": [
    "m[arr]"
   ]
  },
  {
   "cell_type": "code",
   "execution_count": 30,
   "metadata": {
    "collapsed": false
   },
   "outputs": [],
   "source": [
    "middle_layer = [1, 2 ,3 ] \n",
    "test_list = [-1] + middle_layer + [170]"
   ]
  },
  {
   "cell_type": "code",
   "execution_count": 31,
   "metadata": {
    "collapsed": false
   },
   "outputs": [
    {
     "name": "stdout",
     "output_type": "stream",
     "text": [
      "-1\n",
      "1\n",
      "2\n",
      "3\n",
      "170\n"
     ]
    }
   ],
   "source": [
    "for layer in test_list:\n",
    "    print (layer)"
   ]
  },
  {
   "cell_type": "code",
   "execution_count": 46,
   "metadata": {
    "collapsed": false
   },
   "outputs": [
    {
     "name": "stdout",
     "output_type": "stream",
     "text": [
      "(2, 3)\n"
     ]
    }
   ],
   "source": [
    "arr = np.array([[1, 2, 3], [4, 5, 6]])\n",
    "print(arr.shape)"
   ]
  },
  {
   "cell_type": "code",
   "execution_count": 52,
   "metadata": {
    "collapsed": false
   },
   "outputs": [
    {
     "data": {
      "text/plain": [
       "(1, 3)"
      ]
     },
     "execution_count": 52,
     "metadata": {},
     "output_type": "execute_result"
    }
   ],
   "source": [
    "arr[1:2, :].shape"
   ]
  },
  {
   "cell_type": "code",
   "execution_count": 77,
   "metadata": {
    "collapsed": false
   },
   "outputs": [],
   "source": [
    "import tensorflow as tf\n",
    "from tensorflow.python.ops import rnn_cell, rnn"
   ]
  },
  {
   "cell_type": "code",
   "execution_count": 78,
   "metadata": {
    "collapsed": false
   },
   "outputs": [
    {
     "name": "stdout",
     "output_type": "stream",
     "text": [
      "LSTMStateTuple(c=7, h=7)\n"
     ]
    }
   ],
   "source": [
    "lstm = rnn_cell.BasicLSTMCell(7, state_is_tuple=True)\n",
    "print(lstm.state_size)"
   ]
  },
  {
   "cell_type": "code",
   "execution_count": 136,
   "metadata": {
    "collapsed": false
   },
   "outputs": [],
   "source": [
    "init_scale = 0.1\n",
    "input_data = [1, 2, 3, 4, 5, 6, 7, 8, 9, 10, 9, 8, 7, 6, 5, 4, 3, 2, 1, 2, 3, 4, 5]\n",
    "target = [2, 3, 4, 5, 6, 7, 8, 9, 10, 9, 8, 7 ,6, 5, 4, 3, 2, 1, 2, 3, 4, 5, 6]\n",
    "\n",
    "n_features = 1\n",
    "n_steps = 3\n",
    "batch_size = 1\n",
    "n_labels = 1\n",
    "n_hidden = 10\n",
    "\n",
    "graph = tf.Graph()\n",
    "with graph.as_default():\n",
    "    inputs = tf.placeholder(\"float32\", [None, n_steps, n_features])\n",
    "    labels = tf.placeholder(\"float32\", [None, n_labels])\n",
    "    \n",
    "    weights = {\n",
    "        'hidden': tf.Variable(tf.random_normal([n_features, n_hidden])),\n",
    "        'out': tf.Variable(tf.random_normal([n_hidden, n_labels]))\n",
    "    }\n",
    "    biases = {\n",
    "        'hidden': tf.Variable(tf.random_normal([n_hidden])),\n",
    "        'out': tf.Variable(tf.random_normal([n_labels]))\n",
    "    }\n",
    "    \n",
    "    def RNN(x, w, b):\n",
    "        # Prepare data shape to match `rnn` function requirements\n",
    "        # Current data input shape: (batch_size, n_steps, n_input)\n",
    "        # Required shape: 'n_steps' tensors list of shape (batch_size, n_hidden)\n",
    "    \n",
    "        # Permuting batch_size and n_steps\n",
    "        x = tf.transpose(x, [1, 0, 2])\n",
    "        # Reshaping to (n_steps*batch_size, n_input)\n",
    "        x = tf.reshape(x, [-1, n_features])\n",
    "        # Split to get a list of 'n_steps' tensors of shape (batch_size, n_hidden)\n",
    "        x = tf.split(0, n_steps, x)\n",
    "\n",
    "        # Define a lstm cell with tensorflow\n",
    "        lstm_cell = rnn_cell.BasicLSTMCell(n_hidden, forget_bias=1.0, state_is_tuple=True)\n",
    "\n",
    "        # Get lstm cell output\n",
    "        outputs, states = rnn.rnn(lstm_cell, x, dtype=tf.float32)\n",
    "\n",
    "        # Linear activation, using rnn inner loop last output\n",
    "        return tf.matmul(outputs[-1], w['out']) + b['out']\n",
    "    \n",
    "    pred = RNN(inputs, weights, biases)\n",
    "    \n",
    "    # Define loss and optimizer\n",
    "    loss = tf.reduce_mean(tf.square(pred - labels))\n",
    "    op = tf.train.AdamOptimizer(0.001).minimize(loss)"
   ]
  },
  {
   "cell_type": "code",
   "execution_count": 137,
   "metadata": {
    "collapsed": false
   },
   "outputs": [
    {
     "name": "stdout",
     "output_type": "stream",
     "text": [
      "Initialized\n",
      "loss = 2.442387\n",
      "batch_data = 1 2 3, batch_label = 4, predicate = 2.437186\n",
      "loss = 1.538837\n",
      "batch_data = 3 2 1, batch_label = 2, predicate = 3.240499\n",
      "loss = 0.531516\n",
      "batch_data = 8 7 6, batch_label = 5, predicate = 5.729051\n",
      "loss = 12.640471\n",
      "batch_data = 7 8 9, batch_label = 10, predicate = 6.444656\n",
      "loss = 0.245723\n",
      "batch_data = 2 3 4, batch_label = 5, predicate = 4.504295\n",
      "loss = 0.167288\n",
      "batch_data = 2 1 2, batch_label = 3, predicate = 2.590992\n",
      "loss = 3.179091\n",
      "batch_data = 7 6 5, batch_label = 4, predicate = 5.783000\n",
      "loss = 1.713545\n",
      "batch_data = 8 9 10, batch_label = 9, predicate = 7.690976\n",
      "loss = 0.462336\n",
      "batch_data = 3 4 5, batch_label = 6, predicate = 5.320047\n",
      "loss = 0.240782\n",
      "batch_data = 1 2 3, batch_label = 4, predicate = 3.509305\n",
      "loss = 1.875621\n",
      "batch_data = 6 5 4, batch_label = 3, predicate = 4.369533\n",
      "loss = 0.002243\n",
      "batch_data = 9 10 9, batch_label = 8, predicate = 7.952637\n",
      "loss = 0.674860\n",
      "batch_data = 4 5 6, batch_label = 7, predicate = 6.178501\n",
      "loss = 0.087299\n",
      "batch_data = 2 3 4, batch_label = 5, predicate = 4.704536\n",
      "loss = 0.284708\n",
      "batch_data = 5 4 3, batch_label = 2, predicate = 2.533581\n",
      "loss = 0.610157\n",
      "batch_data = 10 9 8, batch_label = 7, predicate = 7.781126\n",
      "loss = 0.986337\n",
      "batch_data = 5 6 7, batch_label = 8, predicate = 7.006855\n",
      "loss = 0.145000\n",
      "batch_data = 3 4 5, batch_label = 6, predicate = 5.619211\n",
      "loss = 0.496849\n",
      "batch_data = 4 3 2, batch_label = 1, predicate = 1.704875\n",
      "loss = 0.778221\n",
      "batch_data = 9 8 7, batch_label = 6, predicate = 6.882168\n",
      "loss = 1.299494\n",
      "batch_data = 6 7 8, batch_label = 9, predicate = 7.860046\n",
      "loss = 0.023138\n",
      "batch_data = 1 2 3, batch_label = 4, predicate = 4.152111\n",
      "loss = 0.412477\n",
      "batch_data = 3 2 1, batch_label = 2, predicate = 1.357757\n",
      "loss = 0.070910\n",
      "batch_data = 8 7 6, batch_label = 5, predicate = 5.266289\n",
      "loss = 1.942064\n",
      "batch_data = 7 8 9, batch_label = 10, predicate = 8.606421\n",
      "loss = 0.018419\n",
      "batch_data = 2 3 4, batch_label = 5, predicate = 5.135715\n",
      "loss = 0.017770\n",
      "batch_data = 2 1 2, batch_label = 3, predicate = 2.866697\n",
      "loss = 0.023953\n",
      "batch_data = 7 6 5, batch_label = 4, predicate = 3.845232\n",
      "loss = 0.041389\n",
      "batch_data = 8 9 10, batch_label = 9, predicate = 9.203444\n",
      "loss = 0.000371\n",
      "batch_data = 3 4 5, batch_label = 6, predicate = 6.019269\n",
      "loss = 0.006106\n",
      "batch_data = 1 2 3, batch_label = 4, predicate = 3.921857\n",
      "loss = 0.013796\n",
      "batch_data = 6 5 4, batch_label = 3, predicate = 2.882543\n",
      "loss = 0.539207\n",
      "batch_data = 9 10 9, batch_label = 8, predicate = 8.734307\n",
      "loss = 0.015674\n",
      "batch_data = 4 5 6, batch_label = 7, predicate = 6.874804\n",
      "loss = 0.002366\n",
      "batch_data = 2 3 4, batch_label = 5, predicate = 5.048641\n",
      "loss = 0.034983\n",
      "batch_data = 5 4 3, batch_label = 2, predicate = 2.187038\n",
      "loss = 0.240502\n",
      "batch_data = 10 9 8, batch_label = 7, predicate = 7.490410\n",
      "loss = 0.090375\n",
      "batch_data = 5 6 7, batch_label = 8, predicate = 7.699375\n",
      "loss = 0.001730\n",
      "batch_data = 3 4 5, batch_label = 6, predicate = 6.041598\n",
      "loss = 0.438191\n",
      "batch_data = 4 3 2, batch_label = 1, predicate = 1.661960\n",
      "loss = 0.010700\n",
      "batch_data = 9 8 7, batch_label = 6, predicate = 6.103440\n",
      "loss = 0.345307\n",
      "batch_data = 6 7 8, batch_label = 9, predicate = 8.412372\n",
      "loss = 0.003831\n",
      "batch_data = 1 2 3, batch_label = 4, predicate = 3.938102\n",
      "loss = 0.080525\n",
      "batch_data = 3 2 1, batch_label = 2, predicate = 1.716231\n",
      "loss = 0.002136\n",
      "batch_data = 8 7 6, batch_label = 5, predicate = 4.953779\n",
      "loss = 1.046708\n",
      "batch_data = 7 8 9, batch_label = 10, predicate = 8.976912\n",
      "loss = 0.006884\n",
      "batch_data = 2 3 4, batch_label = 5, predicate = 4.917030\n",
      "loss = 0.012052\n",
      "batch_data = 2 1 2, batch_label = 3, predicate = 3.109779\n",
      "loss = 0.000323\n",
      "batch_data = 7 6 5, batch_label = 4, predicate = 4.017960\n",
      "loss = 0.181452\n",
      "batch_data = 8 9 10, batch_label = 9, predicate = 9.425972\n",
      "loss = 0.002980\n",
      "batch_data = 3 4 5, batch_label = 6, predicate = 5.945411\n",
      "loss = 0.000372\n",
      "batch_data = 1 2 3, batch_label = 4, predicate = 4.019285\n",
      "loss = 0.000003\n",
      "batch_data = 6 5 4, batch_label = 3, predicate = 2.998274\n",
      "loss = 0.149820\n",
      "batch_data = 9 10 9, batch_label = 8, predicate = 8.387066\n",
      "loss = 0.014028\n",
      "batch_data = 4 5 6, batch_label = 7, predicate = 7.118439\n",
      "loss = 0.001844\n",
      "batch_data = 2 3 4, batch_label = 5, predicate = 4.957063\n",
      "loss = 0.015355\n",
      "batch_data = 5 4 3, batch_label = 2, predicate = 1.876086\n",
      "loss = 0.005343\n",
      "batch_data = 10 9 8, batch_label = 7, predicate = 6.926905\n",
      "loss = 0.024534\n",
      "batch_data = 5 6 7, batch_label = 8, predicate = 8.156632\n",
      "loss = 0.018162\n",
      "batch_data = 3 4 5, batch_label = 6, predicate = 5.865233\n",
      "loss = 0.050497\n",
      "batch_data = 4 3 2, batch_label = 1, predicate = 1.224715\n",
      "loss = 0.060707\n",
      "batch_data = 9 8 7, batch_label = 6, predicate = 5.753611\n",
      "loss = 0.028154\n",
      "batch_data = 6 7 8, batch_label = 9, predicate = 8.832209\n",
      "loss = 0.000515\n",
      "batch_data = 1 2 3, batch_label = 4, predicate = 4.022703\n",
      "loss = 0.008470\n",
      "batch_data = 3 2 1, batch_label = 2, predicate = 1.907970\n",
      "loss = 0.003660\n",
      "batch_data = 8 7 6, batch_label = 5, predicate = 5.060499\n",
      "loss = 0.666244\n",
      "batch_data = 7 8 9, batch_label = 10, predicate = 9.183763\n",
      "loss = 0.000012\n",
      "batch_data = 2 3 4, batch_label = 5, predicate = 4.996536\n",
      "loss = 0.000363\n",
      "batch_data = 2 1 2, batch_label = 3, predicate = 2.980935\n",
      "loss = 0.004277\n",
      "batch_data = 7 6 5, batch_label = 4, predicate = 4.065400\n",
      "loss = 0.245893\n",
      "batch_data = 8 9 10, batch_label = 9, predicate = 9.495876\n",
      "loss = 0.006084\n",
      "batch_data = 3 4 5, batch_label = 6, predicate = 5.922000\n",
      "loss = 0.011379\n",
      "batch_data = 1 2 3, batch_label = 4, predicate = 4.106672\n",
      "loss = 0.003810\n",
      "batch_data = 6 5 4, batch_label = 3, predicate = 3.061729\n",
      "loss = 0.021131\n",
      "batch_data = 9 10 9, batch_label = 8, predicate = 7.854634\n",
      "loss = 0.006729\n",
      "batch_data = 4 5 6, batch_label = 7, predicate = 7.082032\n",
      "loss = 0.001454\n",
      "batch_data = 2 3 4, batch_label = 5, predicate = 4.961873\n",
      "loss = 0.012376\n",
      "batch_data = 5 4 3, batch_label = 2, predicate = 1.888754\n",
      "loss = 0.006893\n",
      "batch_data = 10 9 8, batch_label = 7, predicate = 6.916975\n",
      "loss = 0.015792\n",
      "batch_data = 5 6 7, batch_label = 8, predicate = 8.125668\n",
      "loss = 0.003517\n",
      "batch_data = 3 4 5, batch_label = 6, predicate = 5.940694\n",
      "loss = 0.021408\n",
      "batch_data = 4 3 2, batch_label = 1, predicate = 1.146315\n",
      "loss = 0.000001\n",
      "batch_data = 9 8 7, batch_label = 6, predicate = 5.998816\n",
      "loss = 0.002936\n",
      "batch_data = 6 7 8, batch_label = 9, predicate = 9.054182\n",
      "loss = 0.001177\n",
      "batch_data = 1 2 3, batch_label = 4, predicate = 3.965685\n",
      "loss = 0.056375\n",
      "batch_data = 3 2 1, batch_label = 2, predicate = 1.762565\n",
      "loss = 0.003610\n",
      "batch_data = 8 7 6, batch_label = 5, predicate = 5.060082\n",
      "loss = 1.179059\n",
      "batch_data = 7 8 9, batch_label = 10, predicate = 8.914155\n",
      "loss = 0.020802\n",
      "batch_data = 2 3 4, batch_label = 5, predicate = 5.144228\n",
      "loss = 0.002464\n",
      "batch_data = 2 1 2, batch_label = 3, predicate = 2.950362\n",
      "loss = 0.001469\n",
      "batch_data = 7 6 5, batch_label = 4, predicate = 4.038331\n",
      "loss = 0.120526\n",
      "batch_data = 8 9 10, batch_label = 9, predicate = 9.347168\n",
      "loss = 0.000473\n",
      "batch_data = 3 4 5, batch_label = 6, predicate = 5.978245\n",
      "loss = 0.000749\n",
      "batch_data = 1 2 3, batch_label = 4, predicate = 4.027372\n",
      "loss = 0.000768\n",
      "batch_data = 6 5 4, batch_label = 3, predicate = 3.027720\n",
      "loss = 0.016302\n",
      "batch_data = 9 10 9, batch_label = 8, predicate = 8.127680\n",
      "loss = 0.003604\n",
      "batch_data = 4 5 6, batch_label = 7, predicate = 7.060030\n",
      "loss = 0.038865\n",
      "batch_data = 2 3 4, batch_label = 5, predicate = 4.802857\n",
      "loss = 0.053232\n",
      "batch_data = 5 4 3, batch_label = 2, predicate = 1.769280\n",
      "loss = 0.024910\n",
      "batch_data = 10 9 8, batch_label = 7, predicate = 6.842171\n"
     ]
    }
   ],
   "source": [
    "steps = 10000\n",
    "with tf.Session(graph=graph) as session:\n",
    "    tf.initialize_all_variables().run()\n",
    "    print('Initialized')\n",
    "    for step in range(steps):\n",
    "        off = step * batch_size % (24 - n_steps)\n",
    "        temp = np.array(input_data[off:off+n_steps])\n",
    "        batch_data = temp.reshape(1, 3, 1)\n",
    "        batch_label = np.array(target[off+n_steps - 1]).reshape(1, -1)\n",
    "        feed_dict = {inputs:batch_data, labels:batch_label}\n",
    "        p, l, _ = session.run([pred, loss, op], feed_dict=feed_dict)\n",
    "        if step % 100 == 0:\n",
    "            print('loss = %f' % (l))\n",
    "            print('batch_data = %d %d %d, batch_label = %d, predicate = %f' % (batch_data[0, 0, 0],batch_data[0, 1, 0],batch_data[0, 2, 0], batch_label[0, 0], p))"
   ]
  },
  {
   "cell_type": "code",
   "execution_count": 114,
   "metadata": {
    "collapsed": false
   },
   "outputs": [
    {
     "name": "stdout",
     "output_type": "stream",
     "text": [
      "(1, 1)\n",
      "(1, 1)\n",
      "(1, 1)\n",
      "(1, 1)\n",
      "(1, 1)\n",
      "(1, 1)\n",
      "(1, 1)\n",
      "(1, 1)\n",
      "(1, 1)\n",
      "(1, 1)\n"
     ]
    }
   ],
   "source": [
    "for step in range(0, 10):\n",
    "    off = step * batch_size % (11 - n_steps)\n",
    "    temp = np.array(target[off + n_steps - 1])\n",
    "    batch = temp.reshape(1, -1)\n",
    "    print(batch.shape)"
   ]
  },
  {
   "cell_type": "code",
   "execution_count": null,
   "metadata": {
    "collapsed": true
   },
   "outputs": [],
   "source": []
  }
 ],
 "metadata": {
  "kernelspec": {
   "display_name": "Python 2",
   "language": "python",
   "name": "python2"
  },
  "language_info": {
   "codemirror_mode": {
    "name": "ipython",
    "version": 2
   },
   "file_extension": ".py",
   "mimetype": "text/x-python",
   "name": "python",
   "nbconvert_exporter": "python",
   "pygments_lexer": "ipython2",
   "version": "2.7.11"
  }
 },
 "nbformat": 4,
 "nbformat_minor": 0
}
