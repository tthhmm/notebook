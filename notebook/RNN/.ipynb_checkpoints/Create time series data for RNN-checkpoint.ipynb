{
 "cells": [
  {
   "cell_type": "code",
   "execution_count": 1,
   "metadata": {
    "collapsed": true
   },
   "outputs": [],
   "source": [
    "# import some function we can use later\n",
    "from __future__ import print_function\n",
    "import matplotlib.pyplot as plt\n",
    "import numpy as np\n",
    "import scipy as sp\n",
    "import os\n",
    "import sys\n",
    "from IPython.display import display, Image\n",
    "from six.moves import cPickle as pickle"
   ]
  },
  {
   "cell_type": "code",
   "execution_count": 3,
   "metadata": {
    "collapsed": false
   },
   "outputs": [],
   "source": [
    "# import pandas to process the cvs data\n",
    "import pandas as pd"
   ]
  },
  {
   "cell_type": "code",
   "execution_count": 5,
   "metadata": {
    "collapsed": false
   },
   "outputs": [
    {
     "name": "stdout",
     "output_type": "stream",
     "text": [
      "(252839,) (252839, 70) (252839,)\n"
     ]
    }
   ],
   "source": [
    "pickle_file = '/home/htan/proj/TensorFlow/data/visibility/' +  'rough_visibility.pickle'\n",
    "\n",
    "with open(pickle_file, 'rb') as f:\n",
    "    save = pickle.load(f)\n",
    "    time = save['time']\n",
    "    data = save['data']\n",
    "    label = save['label']\n",
    "    del save\n",
    "    print(time.shape, data.shape, label.shape)\n"
   ]
  },
  {
   "cell_type": "code",
   "execution_count": 17,
   "metadata": {
    "collapsed": false
   },
   "outputs": [
    {
     "data": {
      "text/plain": [
       "array(['04/01/2005 00:00', '04/01/2005 00:15', '04/01/2005 00:30',\n",
       "       '04/01/2005 00:45', '04/01/2005 01:00', '04/01/2005 01:15',\n",
       "       '04/01/2005 01:30', '04/01/2005 01:45', '04/01/2005 02:00',\n",
       "       '04/01/2005 02:15', '04/01/2005 02:30', '04/01/2005 02:45',\n",
       "       '04/01/2005 03:00', '04/01/2005 03:30', '04/01/2005 03:45',\n",
       "       '04/01/2005 04:00', '04/01/2005 04:15', '04/01/2005 04:30',\n",
       "       '04/01/2005 04:45', '04/01/2005 05:00', '04/01/2005 05:15',\n",
       "       '04/01/2005 05:30', '04/01/2005 05:45', '04/01/2005 06:00',\n",
       "       '04/01/2005 06:15', '04/01/2005 06:30', '04/01/2005 06:45',\n",
       "       '04/01/2005 07:00', '04/01/2005 07:15', '04/01/2005 07:30',\n",
       "       '04/01/2005 07:45', '04/01/2005 08:00', '04/01/2005 08:15',\n",
       "       '04/01/2005 08:30', '04/01/2005 08:45', '04/01/2005 09:15',\n",
       "       '04/01/2005 09:45', '04/01/2005 12:15', '04/01/2005 12:45',\n",
       "       '04/01/2005 13:00', '04/03/2005 22:15', '04/03/2005 22:30',\n",
       "       '04/03/2005 22:45', '04/03/2005 23:00', '04/03/2005 23:15',\n",
       "       '04/03/2005 23:30', '04/03/2005 23:45', '04/04/2005 00:00',\n",
       "       '04/04/2005 00:15', '04/04/2005 00:30', '04/04/2005 00:45',\n",
       "       '04/04/2005 01:00', '04/04/2005 01:15', '04/04/2005 01:30',\n",
       "       '04/04/2005 01:45', '04/04/2005 02:00', '04/04/2005 02:15',\n",
       "       '04/04/2005 02:30', '04/04/2005 02:45', '04/04/2005 03:00',\n",
       "       '04/04/2005 03:15', '04/04/2005 03:30', '04/04/2005 03:45',\n",
       "       '04/04/2005 04:00', '04/04/2005 04:15', '04/04/2005 04:30',\n",
       "       '04/04/2005 04:45', '04/04/2005 05:00', '04/04/2005 05:30',\n",
       "       '04/04/2005 06:00', '04/04/2005 06:15', '04/04/2005 06:30',\n",
       "       '04/04/2005 06:45', '04/04/2005 07:00', '04/04/2005 07:30',\n",
       "       '04/04/2005 07:45', '04/04/2005 08:00', '04/04/2005 08:15',\n",
       "       '04/04/2005 08:45', '04/04/2005 09:00', '04/04/2005 09:15',\n",
       "       '04/04/2005 09:30', '04/04/2005 09:45', '04/04/2005 10:00',\n",
       "       '04/04/2005 10:15', '04/04/2005 10:30', '04/04/2005 11:00',\n",
       "       '04/04/2005 11:15', '04/04/2005 11:30', '04/04/2005 12:00',\n",
       "       '04/04/2005 12:15', '04/04/2005 12:30', '04/04/2005 12:45',\n",
       "       '04/04/2005 13:00', '04/04/2005 13:15', '04/04/2005 13:30',\n",
       "       '04/04/2005 13:45', '04/04/2005 14:00', '04/04/2005 14:15',\n",
       "       '04/04/2005 14:30'], dtype=object)"
      ]
     },
     "execution_count": 17,
     "metadata": {},
     "output_type": "execute_result"
    }
   ],
   "source": [
    "time[:100]"
   ]
  },
  {
   "cell_type": "code",
   "execution_count": 49,
   "metadata": {
    "collapsed": false
   },
   "outputs": [
    {
     "name": "stdout",
     "output_type": "stream",
     "text": [
      "900.0\n",
      "900.0\n",
      "900.0\n",
      "900.0\n",
      "900.0\n",
      "900.0\n",
      "900.0\n",
      "900.0\n",
      "900.0\n",
      "900.0\n",
      "900.0\n",
      "900.0\n",
      "1800.0\n",
      "900.0\n",
      "900.0\n",
      "900.0\n",
      "900.0\n",
      "900.0\n",
      "900.0\n",
      "900.0\n",
      "900.0\n",
      "900.0\n",
      "900.0\n",
      "900.0\n",
      "900.0\n",
      "900.0\n",
      "900.0\n",
      "900.0\n",
      "900.0\n",
      "900.0\n",
      "900.0\n",
      "900.0\n",
      "900.0\n",
      "900.0\n",
      "1800.0\n",
      "1800.0\n",
      "9000.0\n",
      "1800.0\n",
      "900.0\n",
      "206100.0\n",
      "900.0\n",
      "900.0\n",
      "900.0\n",
      "900.0\n",
      "900.0\n",
      "900.0\n",
      "900.0\n",
      "900.0\n",
      "900.0\n",
      "900.0\n",
      "900.0\n",
      "900.0\n",
      "900.0\n",
      "900.0\n",
      "900.0\n",
      "900.0\n",
      "900.0\n",
      "900.0\n",
      "900.0\n",
      "900.0\n",
      "900.0\n",
      "900.0\n",
      "900.0\n",
      "900.0\n",
      "900.0\n",
      "900.0\n",
      "900.0\n",
      "1800.0\n",
      "1800.0\n",
      "900.0\n",
      "900.0\n",
      "900.0\n",
      "900.0\n",
      "1800.0\n",
      "900.0\n",
      "900.0\n",
      "900.0\n",
      "1800.0\n",
      "900.0\n",
      "900.0\n",
      "900.0\n",
      "900.0\n",
      "900.0\n",
      "900.0\n",
      "900.0\n",
      "1800.0\n",
      "900.0\n",
      "900.0\n",
      "1800.0\n",
      "900.0\n",
      "900.0\n",
      "900.0\n",
      "900.0\n",
      "900.0\n",
      "900.0\n",
      "900.0\n",
      "900.0\n",
      "900.0\n",
      "900.0\n"
     ]
    }
   ],
   "source": [
    "import time as t\n",
    "for i in range(1, 100):\n",
    "    t_diff = t.mktime(t.strptime(time[i], \"%m/%d/%Y %H:%M\")) - t.mktime(t.strptime(time[i-1], \"%m/%d/%Y %H:%M\"))\n",
    "    print(t_diff)"
   ]
  },
  {
   "cell_type": "code",
   "execution_count": null,
   "metadata": {
    "collapsed": true
   },
   "outputs": [],
   "source": []
  },
  {
   "cell_type": "markdown",
   "metadata": {},
   "source": [
    "We try to create dataset work for recurrent neural network.\n",
    "\n",
    "the dataset shape will from (samples, features) to (samples, n_steps, features)\n",
    "\n",
    "if we set the n_steps = 8 the dataset will be 10 times large"
   ]
  },
  {
   "cell_type": "code",
   "execution_count": 74,
   "metadata": {
    "collapsed": false
   },
   "outputs": [
    {
     "name": "stdout",
     "output_type": "stream",
     "text": [
      "25000\n"
     ]
    }
   ],
   "source": [
    "n_steps = 8\n",
    "n_samples = 25000\n",
    "print(n_samples)"
   ]
  },
  {
   "cell_type": "code",
   "execution_count": 75,
   "metadata": {
    "collapsed": false
   },
   "outputs": [
    {
     "name": "stdout",
     "output_type": "stream",
     "text": [
      "1\n",
      "2\n",
      "3\n",
      "4\n",
      "5\n",
      "6\n",
      "7\n",
      "8\n",
      "9\n"
     ]
    }
   ],
   "source": [
    "rnn_data = data[:n_steps].reshape(1, n_steps, 70)\n",
    "rnn_label = label[:n_steps].reshape(1, n_steps, 1)\n",
    "false_count = 0\n",
    "for i in range(1,n_samples - 10):\n",
    "    if i*100 % (252800) == 0:\n",
    "        print(i*100 / (252800))\n",
    "    temp_data = data[i:i+n_steps].reshape(1, n_steps, 70)\n",
    "    temp_label = label[i:i+n_steps].reshape(1, n_steps, 1)\n",
    "    no_time_gap = True\n",
    "    for j in range(n_steps):\n",
    "        t_diff = t.mktime(t.strptime(time[i+j], \"%m/%d/%Y %H:%M\")) - t.mktime(t.strptime(time[i+j-1], \"%m/%d/%Y %H:%M\"))\n",
    "        if t_diff >= 950.0:\n",
    "            false_count += 1\n",
    "            no_time_gap = False\n",
    "            break\n",
    "    if no_time_gap:\n",
    "        rnn_data = np.vstack((rnn_data, temp_data))\n",
    "        rnn_label = np.vstack((rnn_label, temp_label))\n",
    "            \n",
    "     "
   ]
  },
  {
   "cell_type": "code",
   "execution_count": 76,
   "metadata": {
    "collapsed": false
   },
   "outputs": [
    {
     "name": "stdout",
     "output_type": "stream",
     "text": [
      "11696 (13294, 8, 70) (13294, 8, 1)\n"
     ]
    }
   ],
   "source": [
    "print(false_count, rnn_data.shape, rnn_label.shape)"
   ]
  },
  {
   "cell_type": "code",
   "execution_count": 78,
   "metadata": {
    "collapsed": true
   },
   "outputs": [],
   "source": [
    "rnn_datas = [rnn_data]\n",
    "rnn_labels = [rnn_label]"
   ]
  },
  {
   "cell_type": "code",
   "execution_count": 106,
   "metadata": {
    "collapsed": false
   },
   "outputs": [],
   "source": [
    "class rnn_data_generator:\n",
    "    \n",
    "    def __init__(self, time, data, label):\n",
    "        self.time = time\n",
    "        self.data = data\n",
    "        self.label = label\n",
    "        self.s_data = data[:n_steps].reshape(1, n_steps, 70)\n",
    "        self.s_label = label[:n_steps].reshape(1, n_steps, 1)\n",
    "        self.rnn_data = self.s_data\n",
    "        self.rnn_label = self.s_label\n",
    "        self.rnn_datas = []\n",
    "        self.rnn_labels = []\n",
    "        \n",
    "    def generate(self, number_batches = 10):\n",
    "        n_samples = self.time.shape[0] / 10\n",
    "        for n in range(number_batches):\n",
    "            false_count = 0\n",
    "            for i in range(n_samples - 10):\n",
    "                offset = i + n_samples*n\n",
    "                temp_data = data[offset:offset+n_steps].reshape(1, n_steps, 70)\n",
    "                temp_label = label[offset:offset+n_steps].reshape(1, n_steps, 1)\n",
    "                no_time_gap = True\n",
    "                for j in range(n_steps):\n",
    "                    t_diff = t.mktime(t.strptime(time[offset+j], \"%m/%d/%Y %H:%M\")) - t.mktime(t.strptime(time[offset+j-1], \"%m/%d/%Y %H:%M\"))\n",
    "                    if t_diff >= 950.0:\n",
    "                        false_count += 1\n",
    "                        no_time_gap = False\n",
    "                        break\n",
    "                if no_time_gap:\n",
    "                    self.rnn_data = np.vstack((self.rnn_data, temp_data))\n",
    "                    self.rnn_label = np.vstack((self.rnn_label, temp_label))\n",
    "                    self.s_data = temp_data\n",
    "                    self.s_label = temp_label\n",
    "            \n",
    "            self.rnn_datas.append(self.rnn_data)\n",
    "            self.rnn_labels.append(self.rnn_label)\n",
    "            self.rnn_data = self.s_data\n",
    "            self.rnn_label = self.s_label"
   ]
  },
  {
   "cell_type": "code",
   "execution_count": 107,
   "metadata": {
    "collapsed": false
   },
   "outputs": [],
   "source": [
    "g = rnn_data_generator(time, data, label)"
   ]
  },
  {
   "cell_type": "code",
   "execution_count": 108,
   "metadata": {
    "collapsed": false
   },
   "outputs": [],
   "source": [
    "g.generate(10)"
   ]
  },
  {
   "cell_type": "code",
   "execution_count": 109,
   "metadata": {
    "collapsed": false
   },
   "outputs": [
    {
     "data": {
      "text/plain": [
       "[(13389, 8, 70),\n",
       " (13685, 8, 70),\n",
       " (15186, 8, 70),\n",
       " (16350, 8, 70),\n",
       " (15980, 8, 70),\n",
       " (15134, 8, 70),\n",
       " (15248, 8, 70),\n",
       " (15024, 8, 70),\n",
       " (14243, 8, 70),\n",
       " (15720, 8, 70)]"
      ]
     },
     "execution_count": 109,
     "metadata": {},
     "output_type": "execute_result"
    }
   ],
   "source": [
    "[s.shape for s in g.rnn_datas]"
   ]
  },
  {
   "cell_type": "code",
   "execution_count": 110,
   "metadata": {
    "collapsed": false
   },
   "outputs": [
    {
     "data": {
      "text/plain": [
       "[(13389, 8, 1),\n",
       " (13685, 8, 1),\n",
       " (15186, 8, 1),\n",
       " (16350, 8, 1),\n",
       " (15980, 8, 1),\n",
       " (15134, 8, 1),\n",
       " (15248, 8, 1),\n",
       " (15024, 8, 1),\n",
       " (14243, 8, 1),\n",
       " (15720, 8, 1)]"
      ]
     },
     "execution_count": 110,
     "metadata": {},
     "output_type": "execute_result"
    }
   ],
   "source": [
    "[s.shape for s in g.rnn_labels]"
   ]
  },
  {
   "cell_type": "code",
   "execution_count": 113,
   "metadata": {
    "collapsed": true
   },
   "outputs": [],
   "source": [
    "rnn_data_t = np.vstack(g.rnn_datas)\n",
    "rnn_label_t = np.vstack(g.rnn_labels)"
   ]
  },
  {
   "cell_type": "code",
   "execution_count": 115,
   "metadata": {
    "collapsed": false
   },
   "outputs": [
    {
     "data": {
      "text/plain": [
       "((149959, 8, 70), (149959, 8, 1))"
      ]
     },
     "execution_count": 115,
     "metadata": {},
     "output_type": "execute_result"
    }
   ],
   "source": [
    "rnn_data_t.shape, rnn_label_t.shape"
   ]
  },
  {
   "cell_type": "code",
   "execution_count": 116,
   "metadata": {
    "collapsed": false
   },
   "outputs": [
    {
     "name": "stdout",
     "output_type": "stream",
     "text": [
      "104971 14995 29993\n"
     ]
    }
   ],
   "source": [
    "length = rnn_data_t.shape[0]\n",
    "length_list = range(0, length)\n",
    "train_len = length * 7 / 10\n",
    "validate_len = length / 10 \n",
    "test_len = length - train_len - validate_len\n",
    "print(train_len, validate_len, test_len)"
   ]
  },
  {
   "cell_type": "code",
   "execution_count": 117,
   "metadata": {
    "collapsed": false
   },
   "outputs": [
    {
     "name": "stdout",
     "output_type": "stream",
     "text": [
      "104971 14995 29993 44988 119966\n",
      "0 104971 119966\n"
     ]
    }
   ],
   "source": [
    "train_list = length_list[0:train_len]\n",
    "validate_list = length_list[train_len:train_len + validate_len]\n",
    "test_list = length_list[train_len + validate_len:]\n",
    "sum_v_t = length_list[train_len:]\n",
    "sum_t_v = length_list[:train_len + validate_len]\n",
    "print(len(train_list), len(validate_list), len(test_list), len(sum_v_t), len(sum_t_v))\n",
    "print(train_list[0], validate_list[0], test_list[0])"
   ]
  },
  {
   "cell_type": "code",
   "execution_count": null,
   "metadata": {
    "collapsed": true
   },
   "outputs": [],
   "source": []
  },
  {
   "cell_type": "code",
   "execution_count": 118,
   "metadata": {
    "collapsed": false
   },
   "outputs": [],
   "source": [
    "train_dataset = {\n",
    "    'time' : time[train_list],\n",
    "    'data' : data[train_list],\n",
    "    'label' : label[train_list],\n",
    "}\n",
    "validate_dataset= {\n",
    "    'time' : time[validate_list],\n",
    "    'data' : data[validate_list],\n",
    "    'label' : label[validate_list],\n",
    "}\n",
    "test_dataset = {\n",
    "    'time' : time[test_list],\n",
    "    'data' : data[test_list],\n",
    "    'label' : label[test_list],\n",
    "}\n",
    "v_t_dataset = {\n",
    "    'time' : time[sum_v_t],\n",
    "    'data' : data[sum_v_t],\n",
    "    'label' : label[sum_v_t],\n",
    "}\n",
    "t_v_dataset = {\n",
    "    'time' : time[sum_t_v],\n",
    "    'data' : data[sum_t_v],\n",
    "    'label' : label[sum_t_v],\n",
    "}"
   ]
  },
  {
   "cell_type": "code",
   "execution_count": 119,
   "metadata": {
    "collapsed": true
   },
   "outputs": [],
   "source": [
    "pickle_file = '/home/htan/proj/TensorFlow/data/visibility/' +  'ASOS_time_serial.pickle'\n",
    "\n",
    "with open(pickle_file, 'wb') as f:\n",
    "    save = {\n",
    "        'train_dataset': train_dataset,\n",
    "        'validate_dataset': validate_dataset,\n",
    "        'test_dataset': test_dataset,ti\n",
    "        'v_t_dataset': v_t_dataset,\n",
    "        't_v_dataset':t_v_dataset\n",
    "    }\n",
    "    pickle.dump(save, f, pickle.HIGHEST_PROTOCOL)\n"
   ]
  },
  {
   "cell_type": "code",
   "execution_count": null,
   "metadata": {
    "collapsed": true
   },
   "outputs": [],
   "source": []
  }
 ],
 "metadata": {
  "kernelspec": {
   "display_name": "Python 2",
   "language": "python",
   "name": "python2"
  },
  "language_info": {
   "codemirror_mode": {
    "name": "ipython",
    "version": 2
   },
   "file_extension": ".py",
   "mimetype": "text/x-python",
   "name": "python",
   "nbconvert_exporter": "python",
   "pygments_lexer": "ipython2",
   "version": "2.7.11"
  }
 },
 "nbformat": 4,
 "nbformat_minor": 0
}
