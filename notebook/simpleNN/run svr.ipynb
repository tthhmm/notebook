{
 "cells": [
  {
   "cell_type": "code",
   "execution_count": 1,
   "metadata": {
    "collapsed": true
   },
   "outputs": [],
   "source": [
    "# import some function we can use later\n",
    "from __future__ import print_function\n",
    "import matplotlib.pyplot as plt\n",
    "import numpy as np\n",
    "import scipy as sp\n",
    "import os\n",
    "import sys\n",
    "from IPython.display import display, Image\n",
    "from six.moves import cPickle as pickle\n",
    "%matplotlib inline"
   ]
  },
  {
   "cell_type": "code",
   "execution_count": 2,
   "metadata": {
    "collapsed": true
   },
   "outputs": [],
   "source": [
    "#load data first\n",
    "pickle_file = '/home/nfs/mjmu/haiming/data/visibility/' +  'ASOS_alone.pickle'\n",
    "\n",
    "with open(pickle_file, 'rb') as f:\n",
    "    save = pickle.load(f)\n",
    "    train_dataset= save['train_dataset']\n",
    "    validate_dataset = save['validate_dataset']\n",
    "    test_dataset = save['test_dataset']\n",
    "    test_old = save['test_dataset_evan']\n",
    "    del save\n",
    "train_time = train_dataset['time']\n",
    "train_data = train_dataset['data']\n",
    "train_label = train_dataset['label']\n",
    "validate_time = validate_dataset['time']\n",
    "validate_data = validate_dataset['data']\n",
    "validate_label = validate_dataset['label']\n",
    "test_time = test_dataset['time']\n",
    "test_data = test_dataset['data']\n",
    "test_label = test_dataset['label']"
   ]
  },
  {
   "cell_type": "code",
   "execution_count": 3,
   "metadata": {
    "collapsed": true
   },
   "outputs": [],
   "source": [
    "test_old_data = test_old['data']\n",
    "test_old_label = test_old['label']"
   ]
  },
  {
   "cell_type": "code",
   "execution_count": 4,
   "metadata": {
    "collapsed": false
   },
   "outputs": [
    {
     "name": "stdout",
     "output_type": "stream",
     "text": [
      "(176987, 70) (176987,)\n"
     ]
    }
   ],
   "source": [
    "print(train_data.shape, train_label.shape)"
   ]
  },
  {
   "cell_type": "code",
   "execution_count": 6,
   "metadata": {
    "collapsed": false
   },
   "outputs": [
    {
     "name": "stdout",
     "output_type": "stream",
     "text": [
      "[  9.  10.  10.   9.   8.   9.   8.   7.   7.   6.]\n"
     ]
    }
   ],
   "source": [
    "print(train_label[:10])"
   ]
  },
  {
   "cell_type": "code",
   "execution_count": 5,
   "metadata": {
    "collapsed": false
   },
   "outputs": [
    {
     "data": {
      "text/plain": [
       "()"
      ]
     },
     "execution_count": 5,
     "metadata": {},
     "output_type": "execute_result"
    }
   ],
   "source": [
    "train_data.mean().shape"
   ]
  },
  {
   "cell_type": "code",
   "execution_count": 6,
   "metadata": {
    "collapsed": false
   },
   "outputs": [
    {
     "name": "stdout",
     "output_type": "stream",
     "text": [
      "(70,) (70,)\n"
     ]
    }
   ],
   "source": [
    "mean = train_data.mean(axis = 0)\n",
    "std = train_data.std(axis = 0)\n",
    "print(mean.shape, std.shape)"
   ]
  },
  {
   "cell_type": "code",
   "execution_count": 7,
   "metadata": {
    "collapsed": true
   },
   "outputs": [],
   "source": [
    "train_data_n = (train_data - mean)/std\n",
    "validate_data_n = (validate_data - mean)/std\n",
    "test_data_n = (test_data - mean)/std\n",
    "test_old_data_n = (test_old_data - mean)/std"
   ]
  },
  {
   "cell_type": "code",
   "execution_count": 8,
   "metadata": {
    "collapsed": false
   },
   "outputs": [
    {
     "data": {
      "text/plain": [
       "SVR(C=1.0, cache_size=200, coef0=0.0, degree=3, epsilon=0.1, gamma='auto',\n",
       "  kernel='rbf', max_iter=-1, shrinking=True, tol=0.001, verbose=False)"
      ]
     },
     "execution_count": 8,
     "metadata": {},
     "output_type": "execute_result"
    }
   ],
   "source": [
    "#SVR\n",
    "from sklearn import svm\n",
    "clf = svm.SVR()\n",
    "clf.fit(train_data_n, train_label)"
   ]
  },
  {
   "cell_type": "code",
   "execution_count": 9,
   "metadata": {
    "collapsed": false
   },
   "outputs": [
    {
     "name": "stdout",
     "output_type": "stream",
     "text": [
      "train MAE = 0.360341\n",
      "validate MAE = 0.353925\n"
     ]
    }
   ],
   "source": [
    "def MAE(clf, n_data, label):\n",
    "    return (abs((clf.predict(n_data) - label))).mean()\n",
    "\n",
    "print(\"train MAE = %f\" % (MAE(clf, train_data_n, train_label)))\n",
    "print(\"validate MAE = %f\" % (MAE(clf, validate_data_n, validate_label)))"
   ]
  },
  {
   "cell_type": "code",
   "execution_count": 10,
   "metadata": {
    "collapsed": true
   },
   "outputs": [],
   "source": [
    "filename = '/home/nfs/mjmu/haiming/Model_Persistence/' + 'SVR.model'\n",
    "with open (filename, 'wb') as f:\n",
    "    pickle.dump(clf, f)"
   ]
  },
  {
   "cell_type": "code",
   "execution_count": 10,
   "metadata": {
    "collapsed": false
   },
   "outputs": [
    {
     "name": "stdout",
     "output_type": "stream",
     "text": [
      "(50568, 70)\n"
     ]
    }
   ],
   "source": [
    "print(test_old_data_n.shape)"
   ]
  },
  {
   "cell_type": "code",
   "execution_count": 25,
   "metadata": {
    "collapsed": false
   },
   "outputs": [
    {
     "name": "stdout",
     "output_type": "stream",
     "text": [
      "test MAE = 0.373668\n"
     ]
    }
   ],
   "source": [
    "print(\"test MAE = %f\" % (MAE(clf, test_old_data_n, test_old_label)))"
   ]
  },
  {
   "cell_type": "code",
   "execution_count": null,
   "metadata": {
    "collapsed": false
   },
   "outputs": [],
   "source": [
    "from sklearn import svm\n",
    "clf = svm.SVR(kernel='linear')\n",
    "clf.fit(train_data_n, train_label)"
   ]
  },
  {
   "cell_type": "code",
   "execution_count": null,
   "metadata": {
    "collapsed": false
   },
   "outputs": [],
   "source": [
    "print(\"train MAE = %f\" % (MAE(clf, train_data_n, train_label)))\n",
    "print(\"validate MAE = %f\" % (MAE(clf, validate_data_n, validate_label)))"
   ]
  },
  {
   "cell_type": "code",
   "execution_count": 8,
   "metadata": {
    "collapsed": true
   },
   "outputs": [],
   "source": [
    "from sklearn import svm\n",
    "filename = '/home/nfs/mjmu/haiming/Model_Persistence/' + 'SVR.model'\n",
    "with open (filename, 'rb') as f:\n",
    "    clf = pickle.load(f)"
   ]
  },
  {
   "cell_type": "code",
   "execution_count": 9,
   "metadata": {
    "collapsed": false
   },
   "outputs": [
    {
     "name": "stdout",
     "output_type": "stream",
     "text": [
      "train MAE = 0.367493\n",
      "validate MAE = 0.325343\n",
      "validate MAE = 0.371353\n"
     ]
    }
   ],
   "source": [
    "def MAE(clf, n_data, label):\n",
    "    return (abs((clf.predict(n_data) - label))).mean()\n",
    "\n",
    "print(\"train MAE = %f\" % (MAE(clf, train_data_n, train_label)))\n",
    "print(\"validate MAE = %f\" % (MAE(clf, validate_data_n, validate_label)))\n",
    "print(\"validate MAE = %f\" % (MAE(clf, test_data_n, test_label)))"
   ]
  },
  {
   "cell_type": "code",
   "execution_count": null,
   "metadata": {
    "collapsed": true
   },
   "outputs": [],
   "source": []
  }
 ],
 "metadata": {
  "kernelspec": {
   "display_name": "Python 2",
   "language": "python",
   "name": "python2"
  },
  "language_info": {
   "codemirror_mode": {
    "name": "ipython",
    "version": 2
   },
   "file_extension": ".py",
   "mimetype": "text/x-python",
   "name": "python",
   "nbconvert_exporter": "python",
   "pygments_lexer": "ipython2",
   "version": "2.7.11"
  }
 },
 "nbformat": 4,
 "nbformat_minor": 0
}
