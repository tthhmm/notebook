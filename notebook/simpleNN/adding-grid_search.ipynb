{
 "cells": [
  {
   "cell_type": "markdown",
   "metadata": {},
   "source": [
    "# linear regression model applying for ASOS_alone.pickle"
   ]
  },
  {
   "cell_type": "markdown",
   "metadata": {},
   "source": [
    "## load datset"
   ]
  },
  {
   "cell_type": "code",
   "execution_count": 1,
   "metadata": {
    "collapsed": false
   },
   "outputs": [],
   "source": [
    "# import some function we can use later\n",
    "from __future__ import print_function\n",
    "import matplotlib.pyplot as plt\n",
    "import numpy as np\n",
    "import scipy as sp\n",
    "import os\n",
    "import sys\n",
    "from IPython.display import display, Image\n",
    "from six.moves import cPickle as pickle\n",
    "%matplotlib inline"
   ]
  },
  {
   "cell_type": "code",
   "execution_count": 2,
   "metadata": {
    "collapsed": true
   },
   "outputs": [],
   "source": [
    "#load data first\n",
    "pickle_file = '/home/nfs/mjmu/haiming/data/visibility/' +  'ASOS_alone.pickle'\n",
    "\n",
    "with open(pickle_file, 'rb') as f:\n",
    "    save = pickle.load(f)\n",
    "    train_dataset= save['train_dataset']\n",
    "    validate_dataset = save['validate_dataset']\n",
    "    test_dataset = save['test_dataset']\n",
    "    test_old = save['test_dataset_evan']\n",
    "    del save\n",
    "    "
   ]
  },
  {
   "cell_type": "code",
   "execution_count": 3,
   "metadata": {
    "collapsed": false
   },
   "outputs": [],
   "source": [
    "train_time = train_dataset['time']\n",
    "train_data = train_dataset['data']\n",
    "train_label = train_dataset['label']\n",
    "validate_time = validate_dataset['time']\n",
    "validate_data = validate_dataset['data']\n",
    "validate_label = validate_dataset['label']\n",
    "test_time = test_dataset['time']\n",
    "test_data = test_dataset['data']\n",
    "test_label = test_dataset['label']\n",
    "test_old_data = test_old['data']\n",
    "test_old_label = test_old['label']"
   ]
  },
  {
   "cell_type": "code",
   "execution_count": 4,
   "metadata": {
    "collapsed": false
   },
   "outputs": [
    {
     "name": "stdout",
     "output_type": "stream",
     "text": [
      "(176987, 70) (176987,)\n",
      "(25283, 70) (25283,)\n",
      "(50569, 70) (50569,)\n"
     ]
    }
   ],
   "source": [
    "print(train_data.shape, train_label.shape)\n",
    "print(validate_data.shape, validate_label.shape)\n",
    "print(test_data.shape, test_label.shape)"
   ]
  },
  {
   "cell_type": "code",
   "execution_count": 5,
   "metadata": {
    "collapsed": false
   },
   "outputs": [
    {
     "name": "stdout",
     "output_type": "stream",
     "text": [
      "[  9.  10.  10.   9.   8.   9.   8.   7.   7.   6.]\n"
     ]
    }
   ],
   "source": [
    "print(train_label[:10])"
   ]
  },
  {
   "cell_type": "markdown",
   "metadata": {},
   "source": [
    "## dataset normalize"
   ]
  },
  {
   "cell_type": "code",
   "execution_count": 6,
   "metadata": {
    "collapsed": false
   },
   "outputs": [
    {
     "name": "stdout",
     "output_type": "stream",
     "text": [
      "(70,) (70,)\n"
     ]
    }
   ],
   "source": [
    "#dataset normalize\n",
    "mean = train_data.mean(axis = 0)\n",
    "std = train_data.std(axis = 0)\n",
    "print(mean.shape, std.shape)\n",
    "train_data_n = (train_data - mean)/std\n",
    "validate_data_n = (validate_data - mean)/std\n",
    "test_data_n = (test_data - mean)/std"
   ]
  },
  {
   "cell_type": "code",
   "execution_count": 7,
   "metadata": {
    "collapsed": true
   },
   "outputs": [],
   "source": [
    "def MAE(clf, n_data, label):\n",
    "    return (abs((clf.predict(n_data) - label))).mean()"
   ]
  },
  {
   "cell_type": "markdown",
   "metadata": {},
   "source": [
    "## simple linear model"
   ]
  },
  {
   "cell_type": "code",
   "execution_count": 8,
   "metadata": {
    "collapsed": true
   },
   "outputs": [],
   "source": [
    "from sklearn.grid_search import GridSearchCV "
   ]
  },
  {
   "cell_type": "code",
   "execution_count": 9,
   "metadata": {
    "collapsed": false
   },
   "outputs": [
    {
     "data": {
      "text/plain": [
       "GridSearchCV(cv=None, error_score='raise',\n",
       "       estimator=SGDRegressor(alpha=0.0001, average=False, epsilon=0.1, eta0=0.01,\n",
       "       fit_intercept=True, l1_ratio=0.15, learning_rate='invscaling',\n",
       "       loss='squared_loss', n_iter=5, penalty='l2', power_t=0.25,\n",
       "       random_state=None, shuffle=True, verbose=0, warm_start=False),\n",
       "       fit_params={}, iid=True, n_jobs=1,\n",
       "       param_grid={'loss': ['squared_loss', 'huber'], 'alpha': [1e-05, 0.0001, 0.001, 0.01]},\n",
       "       pre_dispatch='2*n_jobs', refit=True, scoring=None, verbose=0)"
      ]
     },
     "execution_count": 9,
     "metadata": {},
     "output_type": "execute_result"
    }
   ],
   "source": [
    "#SGDRegressor\n",
    "'''SGD has been applied to large-scal and sparse machine learning problems. could be use when training dataset is large\n",
    "than 100,000'''\n",
    "from sklearn import linear_model\n",
    "param_grid = {'loss':['squared_loss', 'huber'],\n",
    "             'alpha':[0.00001, 0.0001, 0.001, 0.01]}\n",
    "gs = GridSearchCV(linear_model.SGDRegressor(), param_grid=param_grid)\n",
    "\n",
    "gs.fit(train_data_n, train_label)"
   ]
  },
  {
   "cell_type": "code",
   "execution_count": 10,
   "metadata": {
    "collapsed": false
   },
   "outputs": [
    {
     "name": "stdout",
     "output_type": "stream",
     "text": [
      "0.792249673681\n"
     ]
    }
   ],
   "source": [
    "print(gs.best_score_)"
   ]
  },
  {
   "cell_type": "code",
   "execution_count": 11,
   "metadata": {
    "collapsed": false
   },
   "outputs": [
    {
     "name": "stdout",
     "output_type": "stream",
     "text": [
      "train MAE = 0.536110\n",
      "validate MAE = 0.477010\n",
      "test MAE = 0.527936\n"
     ]
    }
   ],
   "source": [
    "print(\"train MAE = %f\" % (MAE(gs, train_data_n, train_label)))\n",
    "print(\"validate MAE = %f\" % (MAE(gs, validate_data_n, validate_label)))\n",
    "print(\"test MAE = %f\" % (MAE(gs, test_data_n, test_label)))"
   ]
  },
  {
   "cell_type": "code",
   "execution_count": 12,
   "metadata": {
    "collapsed": false
   },
   "outputs": [
    {
     "name": "stdout",
     "output_type": "stream",
     "text": [
      "{'alpha': 100.0}\n"
     ]
    }
   ],
   "source": [
    "#ridge regression\n",
    "param_grid = {'alpha':[0.00001, 0.0001, 0.001, 0.01, 0.1, 0.5, 1.0, 1.5, 2.0 , 5.0, 10.0, 100.0, 1000.0]}\n",
    "gs = GridSearchCV(linear_model.Ridge(), param_grid=param_grid)\n",
    "gs.fit(train_data_n, train_label)\n",
    "print(gs.best_params_)"
   ]
  },
  {
   "cell_type": "code",
   "execution_count": 13,
   "metadata": {
    "collapsed": false
   },
   "outputs": [
    {
     "name": "stdout",
     "output_type": "stream",
     "text": [
      "train MAE = 0.523842\n",
      "validate MAE = 0.462181\n",
      "test MAE = 0.513353\n"
     ]
    }
   ],
   "source": [
    "print(\"train MAE = %f\" % (MAE(gs, train_data_n, train_label)))\n",
    "print(\"validate MAE = %f\" % (MAE(gs, validate_data_n, validate_label)))\n",
    "print(\"test MAE = %f\" % (MAE(gs, test_data_n, test_label)))"
   ]
  },
  {
   "cell_type": "code",
   "execution_count": 14,
   "metadata": {
    "collapsed": false
   },
   "outputs": [
    {
     "data": {
      "text/plain": [
       "LinearRegression(copy_X=True, fit_intercept=True, n_jobs=1, normalize=False)"
      ]
     },
     "execution_count": 14,
     "metadata": {},
     "output_type": "execute_result"
    }
   ],
   "source": [
    "#linear regression\n",
    "clf = linear_model.LinearRegression()\n",
    "clf.fit(train_data_n, train_label)"
   ]
  },
  {
   "cell_type": "code",
   "execution_count": 15,
   "metadata": {
    "collapsed": false
   },
   "outputs": [
    {
     "name": "stdout",
     "output_type": "stream",
     "text": [
      "train MAE = 0.523641\n",
      "validate MAE = 0.462749\n",
      "test MAE = 0.513083\n"
     ]
    }
   ],
   "source": [
    "print(\"train MAE = %f\" % (MAE(clf, train_data_n, train_label)))\n",
    "print(\"validate MAE = %f\" % (MAE(clf, validate_data_n, validate_label)))\n",
    "print(\"test MAE = %f\" % (MAE(clf, test_data_n, test_label)))"
   ]
  },
  {
   "cell_type": "code",
   "execution_count": 19,
   "metadata": {
    "collapsed": false
   },
   "outputs": [
    {
     "data": {
      "text/plain": [
       "GridSearchCV(cv=None, error_score='raise',\n",
       "       estimator=Lasso(alpha=1.0, copy_X=True, fit_intercept=True, max_iter=1000,\n",
       "   normalize=False, positive=False, precompute=False, random_state=None,\n",
       "   selection='cyclic', tol=0.0001, warm_start=False),\n",
       "       fit_params={}, iid=True, n_jobs=1,\n",
       "       param_grid={'alpha': [1e-05, 0.0001, 0.001, 0.01, 0.1, 0.5, 1.0, 1.5, 2.0, 5.0, 10.0, 100.0, 1000.0], 'max_iter': [100, 1000, 5000, 10000]},\n",
       "       pre_dispatch='2*n_jobs', refit=True, scoring=None, verbose=0)"
      ]
     },
     "execution_count": 19,
     "metadata": {},
     "output_type": "execute_result"
    }
   ],
   "source": [
    "#Lasso model\n",
    "param_grid = {'alpha':[0.00001, 0.0001, 0.001, 0.01, 0.1, 0.5, 1.0, 1.5, 2.0 , 5.0, 10.0, 100.0, 1000.0],\n",
    "             'max_iter':[100, 1000, 5000, 10000]}\n",
    "gs = GridSearchCV(linear_model.Lasso(), param_grid=param_grid)\n",
    "gs.fit(train_data_n, train_label)"
   ]
  },
  {
   "cell_type": "code",
   "execution_count": 20,
   "metadata": {
    "collapsed": false
   },
   "outputs": [
    {
     "name": "stdout",
     "output_type": "stream",
     "text": [
      "{'alpha': 1e-05, 'max_iter': 10000}\n",
      "train MAE = 0.524026\n",
      "validate MAE = 0.462929\n",
      "test MAE = 0.513531\n"
     ]
    }
   ],
   "source": [
    "print(gs.best_params_)\n",
    "print(\"train MAE = %f\" % (MAE(gs, train_data_n, train_label)))\n",
    "print(\"validate MAE = %f\" % (MAE(gs, validate_data_n, validate_label)))\n",
    "print(\"test MAE = %f\" % (MAE(gs, test_data_n, test_label)))"
   ]
  },
  {
   "cell_type": "code",
   "execution_count": null,
   "metadata": {
    "collapsed": true
   },
   "outputs": [],
   "source": []
  },
  {
   "cell_type": "code",
   "execution_count": null,
   "metadata": {
    "collapsed": false
   },
   "outputs": [],
   "source": [
    "#ElasticNet model\n",
    "clf = linear_model.ElasticNet(alpha=0.1)\n",
    "clf.fit(train_data_n, train_label)"
   ]
  },
  {
   "cell_type": "code",
   "execution_count": null,
   "metadata": {
    "collapsed": false
   },
   "outputs": [],
   "source": [
    "print(\"train MAE = %f\" % (MAE(clf, train_data_n, train_label)))\n",
    "print(\"validate MAE = %f\" % (MAE(clf, validate_data_n, validate_label)))\n",
    "print(\"test MAE = %f\" % (MAE(clf, test_old_data_n, test_old_label)))"
   ]
  },
  {
   "cell_type": "code",
   "execution_count": null,
   "metadata": {
    "collapsed": false
   },
   "outputs": [],
   "source": [
    "#Lars model\n",
    "clf = linear_model.Lars()\n",
    "clf.fit(train_data_n, train_label)"
   ]
  },
  {
   "cell_type": "code",
   "execution_count": null,
   "metadata": {
    "collapsed": false
   },
   "outputs": [],
   "source": [
    "print(\"train MAE = %f\" % (MAE(clf, train_data_n, train_label)))\n",
    "print(\"validate MAE = %f\" % (MAE(clf, validate_data_n, validate_label)))\n",
    "print(\"test MAE = %f\" % (MAE(clf, test_old_data_n, test_old_label)))"
   ]
  },
  {
   "cell_type": "code",
   "execution_count": null,
   "metadata": {
    "collapsed": false
   },
   "outputs": [],
   "source": [
    "#LassoLars model\n",
    "clf = linear_model.LassoLars(alpha = 0.1)\n",
    "clf.fit(train_data_n, train_label)"
   ]
  },
  {
   "cell_type": "code",
   "execution_count": null,
   "metadata": {
    "collapsed": false
   },
   "outputs": [],
   "source": [
    "print(\"train MAE = %f\" % (MAE(clf, train_data_n, train_label)))\n",
    "print(\"validate MAE = %f\" % (MAE(clf, validate_data_n, validate_label)))\n",
    "print(\"test MAE = %f\" % (MAE(clf, test_old_data_n, test_old_label)))"
   ]
  },
  {
   "cell_type": "code",
   "execution_count": null,
   "metadata": {
    "collapsed": false
   },
   "outputs": [],
   "source": [
    "#OrthogonalMatchingPursuit\n",
    "clf = linear_model.OrthogonalMatchingPursuit()\n",
    "clf.fit(train_data_n, train_label)"
   ]
  },
  {
   "cell_type": "code",
   "execution_count": null,
   "metadata": {
    "collapsed": false
   },
   "outputs": [],
   "source": [
    "print(\"train MAE = %f\" % (MAE(clf, train_data_n, train_label)))\n",
    "print(\"validate MAE = %f\" % (MAE(clf, validate_data_n, validate_label)))\n",
    "print(\"test MAE = %f\" % (MAE(clf, test_old_data_n, test_old_label)))"
   ]
  },
  {
   "cell_type": "code",
   "execution_count": null,
   "metadata": {
    "collapsed": false
   },
   "outputs": [],
   "source": [
    "#BayesianRidge\n",
    "clf = linear_model.BayesianRidge()\n",
    "clf.fit(train_data_n, train_label)"
   ]
  },
  {
   "cell_type": "code",
   "execution_count": null,
   "metadata": {
    "collapsed": false
   },
   "outputs": [],
   "source": [
    "print(\"train MAE = %f\" % (MAE(clf, train_data_n, train_label)))\n",
    "print(\"validate MAE = %f\" % (MAE(clf, validate_data_n, validate_label)))\n",
    "print(\"test MAE = %f\" % (MAE(clf, test_old_data_n, test_old_label)))"
   ]
  },
  {
   "cell_type": "code",
   "execution_count": null,
   "metadata": {
    "collapsed": false
   },
   "outputs": [],
   "source": [
    "#PassiveAggressiveRegressor\n",
    "clf = linear_model.PassiveAggressiveRegressor()\n",
    "clf.fit(train_data_n, train_label)"
   ]
  },
  {
   "cell_type": "code",
   "execution_count": null,
   "metadata": {
    "collapsed": false
   },
   "outputs": [],
   "source": [
    "print(\"train MAE = %f\" % (MAE(clf, train_data_n, train_label)))\n",
    "print(\"validate MAE = %f\" % (MAE(clf, validate_data_n, validate_label)))\n",
    "print(\"test MAE = %f\" % (MAE(clf, test_old_data_n, test_old_label)))"
   ]
  },
  {
   "cell_type": "code",
   "execution_count": null,
   "metadata": {
    "collapsed": true
   },
   "outputs": [],
   "source": [
    "#TheilSenRegressor\n",
    "#clf = linear_model.TheilSenRegressor()\n",
    "#clf.fit(train_data_n, train_label)"
   ]
  },
  {
   "cell_type": "code",
   "execution_count": null,
   "metadata": {
    "collapsed": true
   },
   "outputs": [],
   "source": [
    "#print(\"train MAE = %f\" % (MAE(clf, train_data_n, train_label)))\n",
    "#print(\"validate MAE = %f\" % (MAE(clf, validate_data_n, validate_label)))"
   ]
  },
  {
   "cell_type": "code",
   "execution_count": null,
   "metadata": {
    "collapsed": false
   },
   "outputs": [],
   "source": [
    "#try polynomial regresion:\n",
    "from sklearn.preprocessing import PolynomialFeatures\n",
    "ploy = PolynomialFeatures(degree = 2)\n",
    "poly_data = ploy.fit_transform(train_data)"
   ]
  },
  {
   "cell_type": "code",
   "execution_count": null,
   "metadata": {
    "collapsed": false
   },
   "outputs": [],
   "source": [
    "poly_data.shape"
   ]
  },
  {
   "cell_type": "markdown",
   "metadata": {},
   "source": [
    "## nonlinear model"
   ]
  },
  {
   "cell_type": "code",
   "execution_count": null,
   "metadata": {
    "collapsed": false
   },
   "outputs": [],
   "source": [
    "from sklearn.preprocessing import scale\n",
    "poly_data_n = (poly_data - poly_data.mean(axis = 0)) / poly_data.std(axis = 0)\n",
    "print(poly_data_n.shape)"
   ]
  },
  {
   "cell_type": "code",
   "execution_count": null,
   "metadata": {
    "collapsed": false
   },
   "outputs": [],
   "source": []
  },
  {
   "cell_type": "code",
   "execution_count": null,
   "metadata": {
    "collapsed": false
   },
   "outputs": [],
   "source": [
    "clf = linear_model.SGDRegressor()\n",
    "clf.fit(poly_data_n, train_label)"
   ]
  },
  {
   "cell_type": "code",
   "execution_count": null,
   "metadata": {
    "collapsed": false
   },
   "outputs": [],
   "source": [
    "print(\"train MAE = %f\" % (MAE(clf, poly_data_n, train_label)))"
   ]
  },
  {
   "cell_type": "markdown",
   "metadata": {},
   "source": [
    "The result is very bad if we add more degree of freedom"
   ]
  },
  {
   "cell_type": "code",
   "execution_count": 21,
   "metadata": {
    "collapsed": false
   },
   "outputs": [
    {
     "data": {
      "text/plain": [
       "GridSearchCV(cv=None, error_score='raise',\n",
       "       estimator=DecisionTreeRegressor(criterion='mse', max_depth=None, max_features=None,\n",
       "           max_leaf_nodes=None, min_samples_leaf=1, min_samples_split=2,\n",
       "           min_weight_fraction_leaf=0.0, presort=False, random_state=None,\n",
       "           splitter='best'),\n",
       "       fit_params={}, iid=True, n_jobs=1,\n",
       "       param_grid={'max_depth': [1, 2, 3, 4, 5, 6, 7, 8, 9, 10, 11, 12, 13]},\n",
       "       pre_dispatch='2*n_jobs', refit=True, scoring=None, verbose=0)"
      ]
     },
     "execution_count": 21,
     "metadata": {},
     "output_type": "execute_result"
    }
   ],
   "source": [
    "#decision tree\n",
    "from sklearn.tree import DecisionTreeRegressor\n",
    "param_grid = {'max_depth':[1, 2, 3, 4, 5, 6, 7, 8, 9 , 10, 11, 12, 13]\n",
    "             }\n",
    "gs = GridSearchCV(DecisionTreeRegressor(), param_grid=param_grid)\n",
    "gs.fit(train_data_n, train_label)"
   ]
  },
  {
   "cell_type": "code",
   "execution_count": 23,
   "metadata": {
    "collapsed": false
   },
   "outputs": [
    {
     "name": "stdout",
     "output_type": "stream",
     "text": [
      "{'max_depth': 6}\n",
      "train MAE = 0.455459\n",
      "validate MAE = 0.405424\n",
      "test MAE = 0.423601\n"
     ]
    }
   ],
   "source": [
    "print(gs.best_params_)\n",
    "print(\"train MAE = %f\" % (MAE(gs, train_data_n, train_label)))\n",
    "print(\"validate MAE = %f\" % (MAE(gs, validate_data_n, validate_label)))\n",
    "print(\"test MAE = %f\" % (MAE(gs, test_data_n, test_label)))"
   ]
  },
  {
   "cell_type": "code",
   "execution_count": null,
   "metadata": {
    "collapsed": false
   },
   "outputs": [],
   "source": [
    "train_MAE_list = []\n",
    "validata_MAE_list = []\n",
    "test_old_MAE_list = []\n",
    "for max_d in range(2, 11):\n",
    "    regr_tree = DecisionTreeRegressor(max_depth=max_d)\n",
    "    regr_tree.fit(train_data_n, train_label)\n",
    "    print(\"max_depth = %i\" % (max_d))\n",
    "    #print(\"train MAE = %f\" % (MAE(regr_tree, train_data_n, train_label)))\n",
    "    #print(\"validate MAE = %f\" % (MAE(regr_tree, validate_data_n, validate_label)))\n",
    "    #print(\"test MAE = %f\" % (MAE(regr_tree, test_old_data_n, test_old_label)))\n",
    "    train_MAE_list.append(MAE(regr_tree, train_data_n, train_label))\n",
    "    validata_MAE_list.append(MAE(regr_tree, validate_data_n, validate_label))\n",
    "    test_old_MAE_list.append(MAE(regr_tree, test_old_data_n, test_old_label))"
   ]
  },
  {
   "cell_type": "code",
   "execution_count": null,
   "metadata": {
    "collapsed": false
   },
   "outputs": [],
   "source": [
    "plt.plot(train_MAE_list, marker='o', label='train MAE')\n",
    "plt.plot(validata_MAE_list, marker='o', label = 'validate MAE')\n",
    "plt.plot(test_old_MAE_list, marker='o', label = 'test_old MAE')\n",
    "plt.legend()"
   ]
  },
  {
   "cell_type": "code",
   "execution_count": null,
   "metadata": {
    "collapsed": false
   },
   "outputs": [],
   "source": [
    "from sklearn import tree\n",
    "from sklearn.externals.six import StringIO\n",
    "import pydot\n"
   ]
  },
  {
   "cell_type": "code",
   "execution_count": null,
   "metadata": {
    "collapsed": false
   },
   "outputs": [],
   "source": [
    "with open(\"tree.dot\", 'w') as f:\n",
    "    f = tree.export_graphviz(regr_tree, out_file=f)\n"
   ]
  },
  {
   "cell_type": "code",
   "execution_count": null,
   "metadata": {
    "collapsed": false
   },
   "outputs": [],
   "source": [
    "#decision tree\n",
    "from sklearn.ensemble import RandomForestRegressor\n",
    "regr = RandomForestRegressor(max_depth=4)\n",
    "regr.fit(train_data_n, train_label)"
   ]
  },
  {
   "cell_type": "code",
   "execution_count": null,
   "metadata": {
    "collapsed": false
   },
   "outputs": [],
   "source": [
    "print(\"train MAE = %f\" % (MAE(regr, train_data_n, train_label)))\n",
    "print(\"validate MAE = %f\" % (MAE(regr, validate_data_n, validate_label)))\n",
    "print(\"test MAE = %f\" % (MAE(regr, test_old_data_n, test_old_label)))"
   ]
  },
  {
   "cell_type": "code",
   "execution_count": null,
   "metadata": {
    "collapsed": false
   },
   "outputs": [],
   "source": [
    "train_MAE_list = []\n",
    "validata_MAE_list = []\n",
    "test_old_MAE_list = []\n",
    "for max_d in range(2, 21):\n",
    "    regr = RandomForestRegressor(max_depth=max_d)\n",
    "    regr.fit(train_data_n, train_label)\n",
    "    print(\"max_depth = %i\" % (max_d))\n",
    "    #print(\"train MAE = %f\" % (MAE(regr_tree, train_data_n, train_label)))\n",
    "    #print(\"validate MAE = %f\" % (MAE(regr_tree, validate_data_n, validate_label)))\n",
    "    #print(\"test MAE = %f\" % (MAE(regr_tree, test_old_data_n, test_old_label)))\n",
    "    train_MAE_list.append(MAE(regr, train_data_n, train_label))\n",
    "    validata_MAE_list.append(MAE(regr, validate_data_n, validate_label))\n",
    "    test_old_MAE_list.append(MAE(regr, test_old_data_n, test_old_label))"
   ]
  },
  {
   "cell_type": "code",
   "execution_count": null,
   "metadata": {
    "collapsed": false
   },
   "outputs": [],
   "source": [
    "plt.figure(figsize = (15, 10))\n",
    "#plt.plot(train_MAE_list, marker='o', label='train MAE')\n",
    "plt.plot(validata_MAE_list, marker='o', label = 'validate MAE')\n",
    "plt.plot(test_old_MAE_list, marker='o', label = 'test_old MAE')\n",
    "plt.legend()"
   ]
  },
  {
   "cell_type": "code",
   "execution_count": null,
   "metadata": {
    "collapsed": true
   },
   "outputs": [],
   "source": []
  }
 ],
 "metadata": {
  "kernelspec": {
   "display_name": "Python 2",
   "language": "python",
   "name": "python2"
  },
  "language_info": {
   "codemirror_mode": {
    "name": "ipython",
    "version": 2
   },
   "file_extension": ".py",
   "mimetype": "text/x-python",
   "name": "python",
   "nbconvert_exporter": "python",
   "pygments_lexer": "ipython2",
   "version": "2.7.11"
  }
 },
 "nbformat": 4,
 "nbformat_minor": 0
}
