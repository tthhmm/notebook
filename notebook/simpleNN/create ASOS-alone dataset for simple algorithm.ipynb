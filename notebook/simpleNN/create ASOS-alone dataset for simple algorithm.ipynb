{
 "cells": [
  {
   "cell_type": "code",
   "execution_count": 8,
   "metadata": {
    "collapsed": true
   },
   "outputs": [],
   "source": [
    "# import some function we can use later\n",
    "from __future__ import print_function\n",
    "import matplotlib.pyplot as plt\n",
    "import numpy as np\n",
    "import scipy as sp\n",
    "import os\n",
    "import sys\n",
    "from IPython.display import display, Image\n",
    "from six.moves import cPickle as pickle"
   ]
  },
  {
   "cell_type": "code",
   "execution_count": 9,
   "metadata": {
    "collapsed": true
   },
   "outputs": [],
   "source": [
    "# import pandas to process the cvs data\n",
    "import pandas as pd"
   ]
  },
  {
   "cell_type": "code",
   "execution_count": 10,
   "metadata": {
    "collapsed": false
   },
   "outputs": [
    {
     "name": "stdout",
     "output_type": "stream",
     "text": [
      "(252839,) (252839, 70) (252839,)\n"
     ]
    }
   ],
   "source": [
    "pickle_file = '/home/nfs/mjmu/haiming/data/visibility/' +  'rough_visibility.pickle'\n",
    "\n",
    "with open(pickle_file, 'rb') as f:\n",
    "    save = pickle.load(f)\n",
    "    time = save['time']\n",
    "    data = save['data']\n",
    "    label = save['label']\n",
    "    del save\n",
    "    print(time.shape, data.shape, label.shape)\n"
   ]
  },
  {
   "cell_type": "code",
   "execution_count": 11,
   "metadata": {
    "collapsed": false
   },
   "outputs": [
    {
     "name": "stdout",
     "output_type": "stream",
     "text": [
      "176987 25283 50569\n"
     ]
    }
   ],
   "source": [
    "length = data.shape[0]\n",
    "length_list = range(0, length)\n",
    "train_len = length * 7 / 10\n",
    "validate_len = length / 10 \n",
    "test_len = length - train_len - validate_len\n",
    "print(train_len, validate_len, test_len)"
   ]
  },
  {
   "cell_type": "code",
   "execution_count": 12,
   "metadata": {
    "collapsed": false
   },
   "outputs": [
    {
     "name": "stdout",
     "output_type": "stream",
     "text": [
      "176987 25283 50569 75852 202270\n",
      "0 176987 202270\n"
     ]
    }
   ],
   "source": [
    "train_list = length_list[0:train_len]\n",
    "validate_list = length_list[train_len:train_len + validate_len]\n",
    "test_list = length_list[train_len + validate_len:]\n",
    "sum_v_t = length_list[train_len:]\n",
    "sum_t_v = length_list[:train_len + validate_len]\n",
    "print(len(train_list), len(validate_list), len(test_list), len(sum_v_t), len(sum_t_v))\n",
    "print(train_list[0], validate_list[0], test_list[0])"
   ]
  },
  {
   "cell_type": "code",
   "execution_count": 13,
   "metadata": {
    "collapsed": false
   },
   "outputs": [],
   "source": [
    "train_dataset = {\n",
    "    'time' : time[train_list],\n",
    "    'data' : data[train_list],\n",
    "    'label' : label[train_list],\n",
    "}\n",
    "validate_dataset= {\n",
    "    'time' : time[validate_list],\n",
    "    'data' : data[validate_list],\n",
    "    'label' : label[validate_list],\n",
    "}\n",
    "test_dataset = {\n",
    "    'time' : time[test_list],\n",
    "    'data' : data[test_list],\n",
    "    'label' : label[test_list],\n",
    "}\n",
    "test_dataset_evan = {\n",
    "    'time' : time[sum_v_t],\n",
    "    'data' : data[sum_v_t],\n",
    "    'label' : label[sum_v_t],\n",
    "}\n",
    "train_dataset_evan = {\n",
    "    'time' : time[sum_t_v],\n",
    "    'data' : data[sum_t_v],\n",
    "    'label' : label[sum_t_v],\n",
    "}"
   ]
  },
  {
   "cell_type": "code",
   "execution_count": 14,
   "metadata": {
    "collapsed": true
   },
   "outputs": [],
   "source": [
    "pickle_file = '/home/nfs/mjmu/haiming/data/visibility/' +  'ASOS_alone.pickle'\n",
    "\n",
    "with open(pickle_file, 'wb') as f:\n",
    "    save = {\n",
    "        'train_dataset': train_dataset,\n",
    "        'validate_dataset': validate_dataset,\n",
    "        'test_dataset': test_dataset,\n",
    "        'test_dataset_evan': test_dataset_evan,\n",
    "        'train_dataset_evan':train_dataset_evan\n",
    "    }\n",
    "    pickle.dump(save, f, pickle.HIGHEST_PROTOCOL)\n"
   ]
  },
  {
   "cell_type": "code",
   "execution_count": null,
   "metadata": {
    "collapsed": true
   },
   "outputs": [],
   "source": []
  }
 ],
 "metadata": {
  "kernelspec": {
   "display_name": "Python 2",
   "language": "python",
   "name": "python2"
  },
  "language_info": {
   "codemirror_mode": {
    "name": "ipython",
    "version": 2
   },
   "file_extension": ".py",
   "mimetype": "text/x-python",
   "name": "python",
   "nbconvert_exporter": "python",
   "pygments_lexer": "ipython2",
   "version": "2.7.11"
  }
 },
 "nbformat": 4,
 "nbformat_minor": 0
}
