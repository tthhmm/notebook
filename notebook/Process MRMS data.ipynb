{
 "cells": [
  {
   "cell_type": "code",
   "execution_count": 24,
   "metadata": {
    "collapsed": false
   },
   "outputs": [],
   "source": [
    "import gzip\n",
    "from netCDF4 import Dataset\n",
    "import numpy as np"
   ]
  },
  {
   "cell_type": "markdown",
   "metadata": {},
   "source": [
    "### Process Gauge data"
   ]
  },
  {
   "cell_type": "code",
   "execution_count": 17,
   "metadata": {
    "collapsed": true
   },
   "outputs": [],
   "source": [
    "MRMS_director = '/home/htan/proj/TensorFlow/data/MRMS/'\n",
    "Guage = 'MRMS_GaugeCoor/'\n",
    "Data = '20160628/'"
   ]
  },
  {
   "cell_type": "code",
   "execution_count": 18,
   "metadata": {
    "collapsed": false
   },
   "outputs": [
    {
     "name": "stdout",
     "output_type": "stream",
     "text": [
      "/home/htan/proj/TensorFlow/data/MRMS/MRMS_GaugeCoor/20160628/MRMS_GaugeCorr_QPE_01H_00.00_20160628-170000.nc.gz\n"
     ]
    }
   ],
   "source": [
    "filename = 'MRMS_GaugeCorr_QPE_01H_00.00_20160628-170000.nc.gz'\n",
    "gz_file_path = MRMS_director + Guage + Data + filename\n",
    "print(gz_file_path)"
   ]
  },
  {
   "cell_type": "code",
   "execution_count": 22,
   "metadata": {
    "collapsed": false
   },
   "outputs": [
    {
     "name": "stdout",
     "output_type": "stream",
     "text": [
      "/home/htan/proj/TensorFlow/notebook/temp/temp_gauge.nc\n"
     ]
    }
   ],
   "source": [
    "outfilename = 'temp_gauge.nc'\n",
    "nc_file_path = '/home/htan/proj/TensorFlow/notebook/temp/' + outfilename\n",
    "print(nc_file_path)"
   ]
  },
  {
   "cell_type": "code",
   "execution_count": 23,
   "metadata": {
    "collapsed": false
   },
   "outputs": [],
   "source": [
    "inF = gzip.open(gz_file_path, 'rb')\n",
    "outF = open(nc_file_path, 'wb')\n",
    "outF.write( inF.read() )\n",
    "inF.close()\n",
    "outF.close()"
   ]
  },
  {
   "cell_type": "code",
   "execution_count": 31,
   "metadata": {
    "collapsed": false
   },
   "outputs": [
    {
     "name": "stdout",
     "output_type": "stream",
     "text": [
      "<type 'netCDF4._netCDF4.Dataset'>\n",
      "root group (NETCDF3_CLASSIC data model, file format NETCDF3):\n",
      "    creation_date: Wed Jun 29 01:07:13 UTC 2016\n",
      "    NCL_Version: 6.2.1\n",
      "    system: Linux mrms-ldm 2.6.32-642.1.1.el6.x86_64 #1 SMP Tue May 31 21:57:07 UTC 2016 x86_64 x86_64 x86_64 GNU/Linux\n",
      "    Conventions: None\n",
      "    grib_source: MRMS_GaugeCorr_QPE_01H_00.00_20160628-170000.grib2\n",
      "    title: NCL: convert-GRIB-to-netCDF\n",
      "    dimensions(sizes): lat_0(3500), lon_0(7000)\n",
      "    variables(dimensions): float32 \u001b[4mVAR_209_6_9_P0_L102_GLL0\u001b[0m(lat_0,lon_0), float32 \u001b[4mlat_0\u001b[0m(lat_0), float32 \u001b[4mlon_0\u001b[0m(lon_0)\n",
      "    groups: \n",
      "\n"
     ]
    }
   ],
   "source": [
    "ncF = Dataset(nc_file_path, mode = 'r')\n",
    "print ncF"
   ]
  },
  {
   "cell_type": "code",
   "execution_count": 32,
   "metadata": {
    "collapsed": false
   },
   "outputs": [],
   "source": [
    "var = ncF.variables['VAR_209_6_9_P0_L102_GLL0'][:]\n",
    "lat = ncF.variables['lat_0'][:]\n",
    "lon = ncF.variables['lon_0'][:]"
   ]
  },
  {
   "cell_type": "code",
   "execution_count": 33,
   "metadata": {
    "collapsed": false
   },
   "outputs": [
    {
     "data": {
      "text/plain": [
       "((3500, 7000), (3500,), (7000,))"
      ]
     },
     "execution_count": 33,
     "metadata": {},
     "output_type": "execute_result"
    }
   ],
   "source": [
    "var.shape, lat.shape, lon.shape"
   ]
  },
  {
   "cell_type": "code",
   "execution_count": 35,
   "metadata": {
    "collapsed": false
   },
   "outputs": [
    {
     "data": {
      "text/plain": [
       "array([[-3., -3., -3., -3., -3., -3., -3., -3., -3., -3.],\n",
       "       [-3., -3., -3., -3., -3., -3., -3., -3., -3., -3.],\n",
       "       [-3., -3., -3., -3., -3., -3., -3., -3., -3., -3.],\n",
       "       [-3., -3., -3., -3., -3., -3., -3., -3., -3., -3.],\n",
       "       [-3., -3., -3., -3., -3., -3., -3., -3., -3., -3.],\n",
       "       [-3., -3., -3., -3., -3., -3., -3., -3., -3., -3.],\n",
       "       [-3., -3., -3., -3., -3., -3., -3., -3., -3., -3.],\n",
       "       [-3., -3., -3., -3., -3., -3., -3., -3., -3., -3.],\n",
       "       [-3., -3., -3., -3., -3., -3., -3., -3., -3., -3.],\n",
       "       [-3., -3., -3., -3., -3., -3., -3., -3., -3., -3.]], dtype=float32)"
      ]
     },
     "execution_count": 35,
     "metadata": {},
     "output_type": "execute_result"
    }
   ],
   "source": [
    "var[:10, :10]"
   ]
  },
  {
   "cell_type": "code",
   "execution_count": 42,
   "metadata": {
    "collapsed": false
   },
   "outputs": [
    {
     "data": {
      "text/plain": [
       "array([ 54.99499893,  49.99499893,  44.99499893,  39.99499893,\n",
       "        34.99499893,  29.99500084,  24.99500084], dtype=float32)"
      ]
     },
     "execution_count": 42,
     "metadata": {},
     "output_type": "execute_result"
    }
   ],
   "source": [
    "lat[:-1:500]"
   ]
  },
  {
   "cell_type": "code",
   "execution_count": 41,
   "metadata": {
    "collapsed": false
   },
   "outputs": [
    {
     "data": {
      "text/plain": [
       "array([ 230.00500488,  235.00500488,  240.00500488,  245.00500488,\n",
       "        250.00500488,  255.00500488,  260.00500488,  265.00500488,\n",
       "        270.00500488,  275.00500488,  280.00500488,  285.00500488,\n",
       "        290.00500488,  295.00500488], dtype=float32)"
      ]
     },
     "execution_count": 41,
     "metadata": {},
     "output_type": "execute_result"
    }
   ],
   "source": [
    "lon[:-1:500]"
   ]
  },
  {
   "cell_type": "markdown",
   "metadata": {},
   "source": [
    "### NLDN"
   ]
  },
  {
   "cell_type": "code",
   "execution_count": 44,
   "metadata": {
    "collapsed": false
   },
   "outputs": [
    {
     "name": "stdout",
     "output_type": "stream",
     "text": [
      "/home/htan/proj/TensorFlow/data/MRMS/MRMS_NLDN_LightningDensity/20160628/MRMS_NLDN_LightningDensity_015_min_20160628-170113.nc.gz\n"
     ]
    }
   ],
   "source": [
    "Nldn = 'MRMS_NLDN_LightningDensity/'\n",
    "filename = 'MRMS_NLDN_LightningDensity_015_min_20160628-170113.nc.gz'\n",
    "gz_file_path = MRMS_director + Nldn + Data + filename\n",
    "print(gz_file_path)"
   ]
  },
  {
   "cell_type": "code",
   "execution_count": 45,
   "metadata": {
    "collapsed": false
   },
   "outputs": [
    {
     "name": "stdout",
     "output_type": "stream",
     "text": [
      "/home/htan/proj/TensorFlow/notebook/temp/temp_NLDN.nc\n"
     ]
    }
   ],
   "source": [
    "outfilename = 'temp_NLDN.nc'\n",
    "nc_file_path = '/home/htan/proj/TensorFlow/notebook/temp/' + outfilename\n",
    "print(nc_file_path)"
   ]
  },
  {
   "cell_type": "code",
   "execution_count": 46,
   "metadata": {
    "collapsed": true
   },
   "outputs": [],
   "source": [
    "inF = gzip.open(gz_file_path, 'rb')\n",
    "outF = open(nc_file_path, 'wb')\n",
    "outF.write( inF.read() )\n",
    "inF.close()\n",
    "outF.close()"
   ]
  },
  {
   "cell_type": "code",
   "execution_count": 47,
   "metadata": {
    "collapsed": false
   },
   "outputs": [
    {
     "name": "stdout",
     "output_type": "stream",
     "text": [
      "<type 'netCDF4._netCDF4.Dataset'>\n",
      "root group (NETCDF3_CLASSIC data model, file format NETCDF3):\n",
      "    creation_date: Wed Jun 29 01:57:31 UTC 2016\n",
      "    NCL_Version: 6.2.1\n",
      "    system: Linux mrms-ldm 2.6.32-642.1.1.el6.x86_64 #1 SMP Tue May 31 21:57:07 UTC 2016 x86_64 x86_64 x86_64 GNU/Linux\n",
      "    Conventions: None\n",
      "    grib_source: MRMS_NLDN_LightningDensity_015_min_20160628-170113.grib2\n",
      "    title: NCL: convert-GRIB-to-netCDF\n",
      "    dimensions(sizes): lat_0(3500), lon_0(7000)\n",
      "    variables(dimensions): float32 \u001b[4mVAR_209_2_2_P0_L102_GLL0\u001b[0m(lat_0,lon_0), float32 \u001b[4mlat_0\u001b[0m(lat_0), float32 \u001b[4mlon_0\u001b[0m(lon_0)\n",
      "    groups: \n",
      "\n"
     ]
    }
   ],
   "source": [
    "ncF = Dataset(nc_file_path, mode = 'r')\n",
    "print ncF"
   ]
  },
  {
   "cell_type": "code",
   "execution_count": 48,
   "metadata": {
    "collapsed": true
   },
   "outputs": [],
   "source": [
    "var = ncF.variables['VAR_209_2_2_P0_L102_GLL0'][:]\n",
    "lat = ncF.variables['lat_0'][:]\n",
    "lon = ncF.variables['lon_0'][:]"
   ]
  },
  {
   "cell_type": "code",
   "execution_count": 49,
   "metadata": {
    "collapsed": false
   },
   "outputs": [
    {
     "data": {
      "text/plain": [
       "((3500, 7000), (3500,), (7000,))"
      ]
     },
     "execution_count": 49,
     "metadata": {},
     "output_type": "execute_result"
    }
   ],
   "source": [
    "var.shape, lat.shape, lon.shape"
   ]
  },
  {
   "cell_type": "code",
   "execution_count": 50,
   "metadata": {
    "collapsed": false
   },
   "outputs": [
    {
     "data": {
      "text/plain": [
       "array([[ 0.,  0.,  0.,  0.,  0.,  0.,  0.,  0.,  0.,  0.],\n",
       "       [ 0.,  0.,  0.,  0.,  0.,  0.,  0.,  0.,  0.,  0.],\n",
       "       [ 0.,  0.,  0.,  0.,  0.,  0.,  0.,  0.,  0.,  0.],\n",
       "       [ 0.,  0.,  0.,  0.,  0.,  0.,  0.,  0.,  0.,  0.],\n",
       "       [ 0.,  0.,  0.,  0.,  0.,  0.,  0.,  0.,  0.,  0.],\n",
       "       [ 0.,  0.,  0.,  0.,  0.,  0.,  0.,  0.,  0.,  0.],\n",
       "       [ 0.,  0.,  0.,  0.,  0.,  0.,  0.,  0.,  0.,  0.],\n",
       "       [ 0.,  0.,  0.,  0.,  0.,  0.,  0.,  0.,  0.,  0.],\n",
       "       [ 0.,  0.,  0.,  0.,  0.,  0.,  0.,  0.,  0.,  0.],\n",
       "       [ 0.,  0.,  0.,  0.,  0.,  0.,  0.,  0.,  0.,  0.]], dtype=float32)"
      ]
     },
     "execution_count": 50,
     "metadata": {},
     "output_type": "execute_result"
    }
   ],
   "source": [
    "var[:10, :10]"
   ]
  },
  {
   "cell_type": "code",
   "execution_count": 51,
   "metadata": {
    "collapsed": false
   },
   "outputs": [
    {
     "data": {
      "text/plain": [
       "array([ 54.99499893,  49.99499893,  44.99499893,  39.99499893,\n",
       "        34.99499893,  29.99500084,  24.99500084], dtype=float32)"
      ]
     },
     "execution_count": 51,
     "metadata": {},
     "output_type": "execute_result"
    }
   ],
   "source": [
    "lat[:-1:500]"
   ]
  },
  {
   "cell_type": "code",
   "execution_count": 52,
   "metadata": {
    "collapsed": false
   },
   "outputs": [
    {
     "data": {
      "text/plain": [
       "array([ 230.00500488,  235.00500488,  240.00500488,  245.00500488,\n",
       "        250.00500488,  255.00500488,  260.00500488,  265.00500488,\n",
       "        270.00500488,  275.00500488,  280.00500488,  285.00500488,\n",
       "        290.00500488,  295.00500488], dtype=float32)"
      ]
     },
     "execution_count": 52,
     "metadata": {},
     "output_type": "execute_result"
    }
   ],
   "source": [
    "lon[:-1:500]"
   ]
  },
  {
   "cell_type": "code",
   "execution_count": 53,
   "metadata": {
    "collapsed": true
   },
   "outputs": [],
   "source": [
    "a = {'1st':{'2nd':{'3rd':4}}}"
   ]
  },
  {
   "cell_type": "code",
   "execution_count": 56,
   "metadata": {
    "collapsed": false
   },
   "outputs": [],
   "source": [
    "a['1st']['2nd']['4th'] = 5"
   ]
  },
  {
   "cell_type": "code",
   "execution_count": 57,
   "metadata": {
    "collapsed": false
   },
   "outputs": [
    {
     "data": {
      "text/plain": [
       "{'1st': {'2nd': {'3rd': 4, '4th': 5}}}"
      ]
     },
     "execution_count": 57,
     "metadata": {},
     "output_type": "execute_result"
    }
   ],
   "source": [
    "a"
   ]
  },
  {
   "cell_type": "code",
   "execution_count": 58,
   "metadata": {
    "collapsed": false
   },
   "outputs": [
    {
     "data": {
      "text/plain": [
       "[u'Conventions',\n",
       " u'NCL_Version',\n",
       " '__class__',\n",
       " '__delattr__',\n",
       " '__doc__',\n",
       " '__enter__',\n",
       " '__exit__',\n",
       " '__format__',\n",
       " '__getattr__',\n",
       " '__getattribute__',\n",
       " '__getitem__',\n",
       " '__hash__',\n",
       " '__init__',\n",
       " '__new__',\n",
       " '__orthogonal_indexing__',\n",
       " '__reduce__',\n",
       " '__reduce_ex__',\n",
       " '__repr__',\n",
       " '__setattr__',\n",
       " '__sizeof__',\n",
       " '__str__',\n",
       " '__subclasshook__',\n",
       " '__unicode__',\n",
       " '_enddef',\n",
       " '_grpid',\n",
       " '_isopen',\n",
       " '_redef',\n",
       " 'close',\n",
       " 'cmptypes',\n",
       " 'createCompoundType',\n",
       " 'createDimension',\n",
       " 'createEnumType',\n",
       " 'createGroup',\n",
       " 'createVLType',\n",
       " 'createVariable',\n",
       " u'creation_date',\n",
       " 'data_model',\n",
       " 'delncattr',\n",
       " 'dimensions',\n",
       " 'disk_format',\n",
       " 'enumtypes',\n",
       " 'file_format',\n",
       " 'filepath',\n",
       " 'get_variables_by_attributes',\n",
       " 'getncattr',\n",
       " u'grib_source',\n",
       " 'groups',\n",
       " 'isopen',\n",
       " 'keepweakref',\n",
       " 'ncattrs',\n",
       " 'parent',\n",
       " 'path',\n",
       " 'renameAttribute',\n",
       " 'renameDimension',\n",
       " 'renameGroup',\n",
       " 'renameVariable',\n",
       " 'set_auto_mask',\n",
       " 'set_auto_maskandscale',\n",
       " 'set_auto_scale',\n",
       " 'set_fill_off',\n",
       " 'set_fill_on',\n",
       " 'setncattr',\n",
       " 'setncatts',\n",
       " 'sync',\n",
       " u'system',\n",
       " u'title',\n",
       " 'variables',\n",
       " 'vltypes']"
      ]
     },
     "execution_count": 58,
     "metadata": {},
     "output_type": "execute_result"
    }
   ],
   "source": [
    "dir(ncF)"
   ]
  },
  {
   "cell_type": "code",
   "execution_count": 60,
   "metadata": {
    "collapsed": false
   },
   "outputs": [
    {
     "name": "stdout",
     "output_type": "stream",
     "text": [
      "VAR_209_2_2_P0_L102_GLL0\n",
      "lat_0\n",
      "lon_0\n"
     ]
    }
   ],
   "source": [
    "for keys in ncF.variables:\n",
    "    print keys"
   ]
  },
  {
   "cell_type": "code",
   "execution_count": 63,
   "metadata": {
    "collapsed": true
   },
   "outputs": [],
   "source": [
    "a = np.array([[1], [2]]).reshape(1, 2, 1)\n",
    "b = np.array([[3], [4]]).reshape(1, 2, 1)"
   ]
  },
  {
   "cell_type": "code",
   "execution_count": 64,
   "metadata": {
    "collapsed": false
   },
   "outputs": [
    {
     "data": {
      "text/plain": [
       "((1, 2, 1), (1, 2, 1))"
      ]
     },
     "execution_count": 64,
     "metadata": {},
     "output_type": "execute_result"
    }
   ],
   "source": [
    "a.shape, b.shape"
   ]
  },
  {
   "cell_type": "code",
   "execution_count": 67,
   "metadata": {
    "collapsed": false
   },
   "outputs": [
    {
     "data": {
      "text/plain": [
       "(1, 2, 2)"
      ]
     },
     "execution_count": 67,
     "metadata": {},
     "output_type": "execute_result"
    }
   ],
   "source": [
    "np.dstack([a, b]).shape"
   ]
  },
  {
   "cell_type": "code",
   "execution_count": 68,
   "metadata": {
    "collapsed": true
   },
   "outputs": [],
   "source": [
    "import os"
   ]
  },
  {
   "cell_type": "code",
   "execution_count": 182,
   "metadata": {
    "collapsed": true
   },
   "outputs": [],
   "source": [
    "# try to implement the search function\n",
    "path = '/home/htan/proj/TensorFlow/data/MRMS/MRMS_Reflectivity/20160628'"
   ]
  },
  {
   "cell_type": "code",
   "execution_count": 183,
   "metadata": {
    "collapsed": false
   },
   "outputs": [],
   "source": [
    "file_list = [f for f in os.listdir(path) if os.path.isfile(os.path.join(path, f))]"
   ]
  },
  {
   "cell_type": "code",
   "execution_count": 201,
   "metadata": {
    "collapsed": false
   },
   "outputs": [
    {
     "data": {
      "text/plain": [
       "'MRMS_Reflectivity_-10C_00.50'"
      ]
     },
     "execution_count": 201,
     "metadata": {},
     "output_type": "execute_result"
    }
   ],
   "source": [
    "file_list[1].split('_20160628-')[0]"
   ]
  },
  {
   "cell_type": "code",
   "execution_count": 107,
   "metadata": {
    "collapsed": false
   },
   "outputs": [],
   "source": [
    "def timeToSec(time):\n",
    "    if len(time) != 6:\n",
    "        raise ValueError('The time formate is not correct at HHMMSS')\n",
    "    hour = int(time[:2])\n",
    "    minute = int(time[2:4])\n",
    "    second = int(time[4:])\n",
    "    return second + minute*60 + hour*3600"
   ]
  },
  {
   "cell_type": "code",
   "execution_count": 202,
   "metadata": {
    "collapsed": false
   },
   "outputs": [
    {
     "data": {
      "text/plain": [
       "(2, 2)"
      ]
     },
     "execution_count": 202,
     "metadata": {},
     "output_type": "execute_result"
    }
   ],
   "source": [
    "m = [[1, 2], [3, 4]]\n",
    "w =np.array(m)\n",
    "w.shape"
   ]
  },
  {
   "cell_type": "code",
   "execution_count": 203,
   "metadata": {
    "collapsed": false
   },
   "outputs": [
    {
     "data": {
      "text/plain": [
       "array([[1],\n",
       "       [2],\n",
       "       [3],\n",
       "       [4]])"
      ]
     },
     "execution_count": 203,
     "metadata": {},
     "output_type": "execute_result"
    }
   ],
   "source": [
    "w.reshape(4,1)"
   ]
  },
  {
   "cell_type": "code",
   "execution_count": 204,
   "metadata": {
    "collapsed": false
   },
   "outputs": [
    {
     "data": {
      "text/plain": [
       "array([[1, 2],\n",
       "       [3, 4]])"
      ]
     },
     "execution_count": 204,
     "metadata": {},
     "output_type": "execute_result"
    }
   ],
   "source": [
    "w"
   ]
  },
  {
   "cell_type": "code",
   "execution_count": null,
   "metadata": {
    "collapsed": true
   },
   "outputs": [],
   "source": []
  }
 ],
 "metadata": {
  "kernelspec": {
   "display_name": "Python 2",
   "language": "python",
   "name": "python2"
  },
  "language_info": {
   "codemirror_mode": {
    "name": "ipython",
    "version": 2
   },
   "file_extension": ".py",
   "mimetype": "text/x-python",
   "name": "python",
   "nbconvert_exporter": "python",
   "pygments_lexer": "ipython2",
   "version": "2.7.12"
  }
 },
 "nbformat": 4,
 "nbformat_minor": 0
}
