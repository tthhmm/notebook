{
 "cells": [
  {
   "cell_type": "code",
   "execution_count": 1,
   "metadata": {
    "collapsed": true
   },
   "outputs": [],
   "source": [
    "import numpy as np\n",
    "from sklearn import linear_model\n",
    "from __future__ import print_function"
   ]
  },
  {
   "cell_type": "code",
   "execution_count": 9,
   "metadata": {
    "collapsed": false
   },
   "outputs": [
    {
     "name": "stdout",
     "output_type": "stream",
     "text": [
      "[[1 2]\n",
      " [3 4]\n",
      " [5 6]]\n"
     ]
    }
   ],
   "source": [
    "x = np.array([[1,2],[3,4], [5,6]])\n",
    "y = np.array([0] * 18).reshape(3, 3, 2)\n",
    "print(x)"
   ]
  },
  {
   "cell_type": "code",
   "execution_count": 8,
   "metadata": {
    "collapsed": false
   },
   "outputs": [
    {
     "name": "stdout",
     "output_type": "stream",
     "text": [
      "[[1 2]\n",
      " [1 2]\n",
      " [1 2]\n",
      " [3 4]\n",
      " [3 4]\n",
      " [3 4]\n",
      " [5 6]\n",
      " [5 6]\n",
      " [5 6]]\n",
      "(9, 2)\n",
      "[[[1 2]\n",
      "  [1 2]\n",
      "  [1 2]]\n",
      "\n",
      " [[3 4]\n",
      "  [3 4]\n",
      "  [3 4]]\n",
      "\n",
      " [[5 6]\n",
      "  [5 6]\n",
      "  [5 6]]]\n",
      "(3, 3, 2)\n"
     ]
    }
   ],
   "source": [
    "a = np.repeat(x, 3, axis = 0)\n",
    "print(a)\n",
    "print(a.shape)\n",
    "b = a.reshape(x.shape[0], 3, x.shape[1])\n",
    "print (b)\n",
    "print (b.shape)"
   ]
  },
  {
   "cell_type": "code",
   "execution_count": 25,
   "metadata": {
    "collapsed": false
   },
   "outputs": [],
   "source": [
    "c = np.concatenate((y, b), axis = 2).reshape(36,1)"
   ]
  },
  {
   "cell_type": "code",
   "execution_count": 35,
   "metadata": {
    "collapsed": false
   },
   "outputs": [
    {
     "data": {
      "text/plain": [
       "(36,)"
      ]
     },
     "execution_count": 35,
     "metadata": {},
     "output_type": "execute_result"
    }
   ],
   "source": [
    "c.reshape(-1).shape"
   ]
  },
  {
   "cell_type": "code",
   "execution_count": 2,
   "metadata": {
    "collapsed": false
   },
   "outputs": [],
   "source": [
    "n_samples, n_features = 10, 5\n",
    "np.random.seed(0)\n",
    "y = np.random.randn(n_samples)\n",
    "X = np.random.randn(n_samples, n_features)\n"
   ]
  },
  {
   "cell_type": "code",
   "execution_count": 3,
   "metadata": {
    "collapsed": false
   },
   "outputs": [
    {
     "name": "stdout",
     "output_type": "stream",
     "text": [
      "(10, 5) (10,)\n"
     ]
    }
   ],
   "source": [
    "print(X.shape, y.shape)"
   ]
  },
  {
   "cell_type": "code",
   "execution_count": 4,
   "metadata": {
    "collapsed": true
   },
   "outputs": [],
   "source": [
    "clf = linear_model.SGDRegressor()\n"
   ]
  },
  {
   "cell_type": "code",
   "execution_count": 5,
   "metadata": {
    "collapsed": false
   },
   "outputs": [
    {
     "data": {
      "text/plain": [
       "SGDRegressor(alpha=0.0001, average=False, epsilon=0.1, eta0=0.01,\n",
       "       fit_intercept=True, l1_ratio=0.15, learning_rate='invscaling',\n",
       "       loss='squared_loss', n_iter=5, penalty='l2', power_t=0.25,\n",
       "       random_state=None, shuffle=True, verbose=0, warm_start=False)"
      ]
     },
     "execution_count": 5,
     "metadata": {},
     "output_type": "execute_result"
    }
   ],
   "source": [
    "clf.fit(X, y)"
   ]
  },
  {
   "cell_type": "code",
   "execution_count": 6,
   "metadata": {
    "collapsed": false
   },
   "outputs": [
    {
     "data": {
      "text/plain": [
       "10.511309694328974"
      ]
     },
     "execution_count": 6,
     "metadata": {},
     "output_type": "execute_result"
    }
   ],
   "source": [
    "((clf.predict(X) - y)**2).sum()"
   ]
  },
  {
   "cell_type": "code",
   "execution_count": 7,
   "metadata": {
    "collapsed": false
   },
   "outputs": [
    {
     "data": {
      "text/plain": [
       "9.3524220050028379"
      ]
     },
     "execution_count": 7,
     "metadata": {},
     "output_type": "execute_result"
    }
   ],
   "source": [
    "((y.mean() - y)**2).sum()"
   ]
  },
  {
   "cell_type": "code",
   "execution_count": 8,
   "metadata": {
    "collapsed": false
   },
   "outputs": [],
   "source": [
    "import matplotlib.pyplot as plt "
   ]
  },
  {
   "cell_type": "code",
   "execution_count": 9,
   "metadata": {
    "collapsed": true
   },
   "outputs": [],
   "source": [
    "%matplotlib inline"
   ]
  },
  {
   "cell_type": "code",
   "execution_count": 11,
   "metadata": {
    "collapsed": false
   },
   "outputs": [
    {
     "data": {
      "text/plain": [
       "[<matplotlib.lines.Line2D at 0x7f41ca8e3650>]"
      ]
     },
     "execution_count": 11,
     "metadata": {},
     "output_type": "execute_result"
    },
    {
     "data": {
      "image/png": "[encoded data removed]",
      "text/plain": [
       "<matplotlib.figure.Figure at 0x7f41caba2990>"
      ]
     },
     "metadata": {},
     "output_type": "display_data"
    }
   ],
   "source": [
    "plt.plot(clf.predict(X), y)"
   ]
  },
  {
   "cell_type": "code",
   "execution_count": 18,
   "metadata": {
    "collapsed": false
   },
   "outputs": [
    {
     "name": "stdout",
     "output_type": "stream",
     "text": [
      "[0 1 2 3 4 5 6 7 8 9]\n"
     ]
    }
   ],
   "source": [
    "arr = np.arange(10)\n",
    "print(arr)"
   ]
  },
  {
   "cell_type": "code",
   "execution_count": 19,
   "metadata": {
    "collapsed": true
   },
   "outputs": [],
   "source": [
    "np.random.shuffle(arr)"
   ]
  },
  {
   "cell_type": "code",
   "execution_count": 20,
   "metadata": {
    "collapsed": false
   },
   "outputs": [
    {
     "name": "stdout",
     "output_type": "stream",
     "text": [
      "[5 9 8 7 1 3 6 0 2 4]\n"
     ]
    }
   ],
   "source": [
    "print(arr)"
   ]
  },
  {
   "cell_type": "code",
   "execution_count": 21,
   "metadata": {
    "collapsed": false
   },
   "outputs": [
    {
     "name": "stdout",
     "output_type": "stream",
     "text": [
      "[5 9 8 7 1 3 6 0 2 4]\n"
     ]
    }
   ],
   "source": [
    "m = np.arange(10) * 10\n",
    "print(arr)"
   ]
  },
  {
   "cell_type": "code",
   "execution_count": 22,
   "metadata": {
    "collapsed": false
   },
   "outputs": [
    {
     "data": {
      "text/plain": [
       "array([50, 90, 80, 70, 10, 30, 60,  0, 20, 40])"
      ]
     },
     "execution_count": 22,
     "metadata": {},
     "output_type": "execute_result"
    }
   ],
   "source": [
    "m[arr]"
   ]
  },
  {
   "cell_type": "code",
   "execution_count": 30,
   "metadata": {
    "collapsed": false
   },
   "outputs": [],
   "source": [
    "middle_layer = [1, 2 ,3 ] \n",
    "test_list = [-1] + middle_layer + [170]"
   ]
  },
  {
   "cell_type": "code",
   "execution_count": 31,
   "metadata": {
    "collapsed": false
   },
   "outputs": [
    {
     "name": "stdout",
     "output_type": "stream",
     "text": [
      "-1\n",
      "1\n",
      "2\n",
      "3\n",
      "170\n"
     ]
    }
   ],
   "source": [
    "for layer in test_list:\n",
    "    print (layer)"
   ]
  },
  {
   "cell_type": "code",
   "execution_count": 46,
   "metadata": {
    "collapsed": false
   },
   "outputs": [
    {
     "name": "stdout",
     "output_type": "stream",
     "text": [
      "(2, 3)\n"
     ]
    }
   ],
   "source": [
    "arr = np.array([[1, 2, 3], [4, 5, 6]])\n",
    "print(arr.shape)"
   ]
  },
  {
   "cell_type": "code",
   "execution_count": 52,
   "metadata": {
    "collapsed": false
   },
   "outputs": [
    {
     "data": {
      "text/plain": [
       "(1, 3)"
      ]
     },
     "execution_count": 52,
     "metadata": {},
     "output_type": "execute_result"
    }
   ],
   "source": [
    "arr[1:2, :].shape"
   ]
  },
  {
   "cell_type": "code",
   "execution_count": 77,
   "metadata": {
    "collapsed": false
   },
   "outputs": [],
   "source": [
    "import tensorflow as tf\n",
    "from tensorflow.python.ops import rnn_cell, rnn"
   ]
  },
  {
   "cell_type": "code",
   "execution_count": 78,
   "metadata": {
    "collapsed": false
   },
   "outputs": [
    {
     "name": "stdout",
     "output_type": "stream",
     "text": [
      "LSTMStateTuple(c=7, h=7)\n"
     ]
    }
   ],
   "source": [
    "lstm = rnn_cell.BasicLSTMCell(7, state_is_tuple=True)\n",
    "print(lstm.state_size)"
   ]
  },
  {
   "cell_type": "code",
   "execution_count": 1,
   "metadata": {
    "collapsed": false
   },
   "outputs": [
    {
     "ename": "NameError",
     "evalue": "name 'tf' is not defined",
     "output_type": "error",
     "traceback": [
      "\u001b[1;31m\u001b[0m",
      "\u001b[1;31mNameError\u001b[0mTraceback (most recent call last)",
      "\u001b[1;32m<ipython-input-1-6149d25f55b4>\u001b[0m in \u001b[0;36m<module>\u001b[1;34m()\u001b[0m\n\u001b[0;32m      9\u001b[0m \u001b[0mn_hidden\u001b[0m \u001b[1;33m=\u001b[0m \u001b[1;36m350\u001b[0m\u001b[1;33m\u001b[0m\u001b[0m\n\u001b[0;32m     10\u001b[0m \u001b[1;33m\u001b[0m\u001b[0m\n\u001b[1;32m---> 11\u001b[1;33m \u001b[0mgraph\u001b[0m \u001b[1;33m=\u001b[0m \u001b[0mtf\u001b[0m\u001b[1;33m.\u001b[0m\u001b[0mGraph\u001b[0m\u001b[1;33m(\u001b[0m\u001b[1;33m)\u001b[0m\u001b[1;33m\u001b[0m\u001b[0m\n\u001b[0m\u001b[0;32m     12\u001b[0m \u001b[1;32mwith\u001b[0m \u001b[0mgraph\u001b[0m\u001b[1;33m.\u001b[0m\u001b[0mas_default\u001b[0m\u001b[1;33m(\u001b[0m\u001b[1;33m)\u001b[0m\u001b[1;33m:\u001b[0m\u001b[1;33m\u001b[0m\u001b[0m\n\u001b[0;32m     13\u001b[0m     \u001b[0minputs\u001b[0m \u001b[1;33m=\u001b[0m \u001b[0mtf\u001b[0m\u001b[1;33m.\u001b[0m\u001b[0mplaceholder\u001b[0m\u001b[1;33m(\u001b[0m\u001b[1;34m\"float32\"\u001b[0m\u001b[1;33m,\u001b[0m \u001b[1;33m[\u001b[0m\u001b[0mNone\u001b[0m\u001b[1;33m,\u001b[0m \u001b[0mn_steps\u001b[0m\u001b[1;33m,\u001b[0m \u001b[0mn_features\u001b[0m\u001b[1;33m]\u001b[0m\u001b[1;33m)\u001b[0m\u001b[1;33m\u001b[0m\u001b[0m\n",
      "\u001b[1;31mNameError\u001b[0m: name 'tf' is not defined"
     ]
    }
   ],
   "source": [
    "init_scale = 0.1\n",
    "input_data = [1, 2, 3, 4, 5, 6, 7, 8, 9, 10, 9, 8, 7, 6, 5, 4, 3, 2, 1, 2, 3, 4, 5]\n",
    "target = [2, 3, 4, 5, 6, 7, 8, 9, 10, 9, 8, 7 ,6, 5, 4, 3, 2, 1, 2, 3, 4, 5, 6]\n",
    "\n",
    "n_features = 1\n",
    "n_steps = 3\n",
    "batch_size = 1\n",
    "n_labels = 1\n",
    "n_hidden = 10\n",
    "\n",
    "graph = tf.Graph()\n",
    "with graph.as_default():\n",
    "    inputs = tf.placeholder(\"float32\", [None, n_steps, n_features])\n",
    "    labels = tf.placeholder(\"float32\", [None, n_labels])\n",
    "    \n",
    "    weights = {\n",
    "        'hidden': tf.Variable(tf.random_normal([n_features, n_hidden])),\n",
    "        'out': tf.Variable(tf.random_normal([n_hidden, n_labels]))\n",
    "    }\n",
    "    biases = {\n",
    "        'hidden': tf.Variable(tf.random_normal([n_hidden])),\n",
    "        'out': tf.Variable(tf.random_normal([n_labels]))\n",
    "    }\n",
    "    \n",
    "    def RNN(x, w, b):\n",
    "        # Prepare data shape to match `rnn` function requirements\n",
    "        # Current data input shape: (batch_size, n_steps, n_input)\n",
    "        # Required shape: 'n_steps' tensors list of shape (batch_size, n_hidden)\n",
    "    \n",
    "        # Permuting batch_size and n_steps\n",
    "        x = tf.transpose(x, [1, 0, 2])\n",
    "        # Reshaping to (n_steps*batch_size, n_input)\n",
    "        x = tf.reshape(x, [-1, n_features])\n",
    "        \n",
    "        # Linear activation\n",
    "        x = tf.matmul(x, w['hidden']) + b['hidden']\n",
    "        # Split to get a list of 'n_steps' tensors of shape (batch_size, n_hidden)\n",
    "        x = tf.split(0, n_steps, x)\n",
    "\n",
    "        # Define a lstm cell with tensorflow\n",
    "        lstm_cell = rnn_cell.BasicLSTMCell(n_hidden, forget_bias=1.0, state_is_tuple=True)\n",
    "\n",
    "        # Get lstm cell output\n",
    "        outputs, states = rnn.rnn(lstm_cell, x, dtype=tf.float32)\n",
    "\n",
    "        # Linear activation, using rnn inner loop last output\n",
    "        return tf.matmul(outputs[-1], w['out']) + b['out']\n",
    "    \n",
    "    pred = RNN(inputs, weights, biases)\n",
    "    \n",
    "    # Define loss and optimizer\n",
    "    loss = tf.reduce_mean(tf.square(pred - labels))\n",
    "    op = tf.train.AdamOptimizer(0.001).minimize(loss)"
   ]
  },
  {
   "cell_type": "code",
   "execution_count": 141,
   "metadata": {
    "collapsed": false,
    "scrolled": true
   },
   "outputs": [
    {
     "name": "stdout",
     "output_type": "stream",
     "text": [
      "Initialized\n",
      "loss = 28.400396\n",
      "batch_data = 1 2 3, batch_label = 4, predicate = -1.329202\n",
      "loss = 0.384000\n",
      "batch_data = 3 2 1, batch_label = 2, predicate = 2.619677\n",
      "loss = 0.028927\n",
      "batch_data = 8 7 6, batch_label = 5, predicate = 5.170081\n",
      "loss = 10.897052\n",
      "batch_data = 7 8 9, batch_label = 10, predicate = 6.698932\n",
      "loss = 0.319618\n",
      "batch_data = 2 3 4, batch_label = 5, predicate = 4.434652\n",
      "loss = 0.234942\n",
      "batch_data = 2 1 2, batch_label = 3, predicate = 2.515292\n",
      "loss = 2.838127\n",
      "batch_data = 7 6 5, batch_label = 4, predicate = 5.684674\n",
      "loss = 2.012923\n",
      "batch_data = 8 9 10, batch_label = 9, predicate = 7.581225\n",
      "loss = 0.354192\n",
      "batch_data = 3 4 5, batch_label = 6, predicate = 5.404860\n",
      "loss = 0.053954\n",
      "batch_data = 1 2 3, batch_label = 4, predicate = 3.767720\n",
      "loss = 0.299292\n",
      "batch_data = 6 5 4, batch_label = 3, predicate = 3.547076\n",
      "loss = 0.001814\n",
      "batch_data = 9 10 9, batch_label = 8, predicate = 7.957404\n",
      "loss = 0.558760\n",
      "batch_data = 4 5 6, batch_label = 7, predicate = 6.252498\n",
      "loss = 0.000799\n",
      "batch_data = 2 3 4, batch_label = 5, predicate = 5.028265\n",
      "loss = 0.067060\n",
      "batch_data = 5 4 3, batch_label = 2, predicate = 2.258959\n",
      "loss = 0.811128\n",
      "batch_data = 10 9 8, batch_label = 7, predicate = 7.900627\n",
      "loss = 0.767120\n",
      "batch_data = 5 6 7, batch_label = 8, predicate = 7.124146\n",
      "loss = 0.001324\n",
      "batch_data = 3 4 5, batch_label = 6, predicate = 5.963613\n",
      "loss = 0.456484\n",
      "batch_data = 4 3 2, batch_label = 1, predicate = 1.675636\n",
      "loss = 0.556218\n",
      "batch_data = 9 8 7, batch_label = 6, predicate = 6.745800\n",
      "loss = 1.088179\n",
      "batch_data = 6 7 8, batch_label = 9, predicate = 7.956842\n",
      "loss = 0.000090\n",
      "batch_data = 1 2 3, batch_label = 4, predicate = 3.990494\n",
      "loss = 0.082153\n",
      "batch_data = 3 2 1, batch_label = 2, predicate = 1.713376\n",
      "loss = 0.000004\n",
      "batch_data = 8 7 6, batch_label = 5, predicate = 5.002030\n",
      "loss = 1.823181\n",
      "batch_data = 7 8 9, batch_label = 10, predicate = 8.649748\n",
      "loss = 0.006711\n",
      "batch_data = 2 3 4, batch_label = 5, predicate = 5.081921\n",
      "loss = 0.002126\n",
      "batch_data = 2 1 2, batch_label = 3, predicate = 2.953889\n",
      "loss = 0.014872\n",
      "batch_data = 7 6 5, batch_label = 4, predicate = 4.121953\n",
      "loss = 0.018838\n",
      "batch_data = 8 9 10, batch_label = 9, predicate = 9.137252\n",
      "loss = 0.004906\n",
      "batch_data = 3 4 5, batch_label = 6, predicate = 5.929960\n",
      "loss = 0.000087\n",
      "batch_data = 1 2 3, batch_label = 4, predicate = 3.990653\n",
      "loss = 0.026867\n",
      "batch_data = 6 5 4, batch_label = 3, predicate = 3.163911\n",
      "loss = 0.553439\n",
      "batch_data = 9 10 9, batch_label = 8, predicate = 8.743935\n",
      "loss = 0.000006\n",
      "batch_data = 4 5 6, batch_label = 7, predicate = 7.002375\n",
      "loss = 0.002758\n",
      "batch_data = 2 3 4, batch_label = 5, predicate = 5.052516\n",
      "loss = 0.015356\n",
      "batch_data = 5 4 3, batch_label = 2, predicate = 1.876080\n",
      "loss = 0.000670\n",
      "batch_data = 10 9 8, batch_label = 7, predicate = 6.974124\n",
      "loss = 0.000128\n",
      "batch_data = 5 6 7, batch_label = 8, predicate = 8.011319\n",
      "loss = 0.139360\n",
      "batch_data = 3 4 5, batch_label = 6, predicate = 6.373310\n",
      "loss = 0.051628\n",
      "batch_data = 4 3 2, batch_label = 1, predicate = 1.227218\n",
      "loss = 1.204824\n",
      "batch_data = 9 8 7, batch_label = 6, predicate = 7.097645\n",
      "loss = 0.848999\n",
      "batch_data = 6 7 8, batch_label = 9, predicate = 8.078588\n",
      "loss = 0.087597\n",
      "batch_data = 1 2 3, batch_label = 4, predicate = 4.295968\n",
      "loss = 0.011172\n",
      "batch_data = 3 2 1, batch_label = 2, predicate = 1.894300\n",
      "loss = 0.359136\n",
      "batch_data = 8 7 6, batch_label = 5, predicate = 4.400721\n",
      "loss = 0.819803\n",
      "batch_data = 7 8 9, batch_label = 10, predicate = 9.094570\n",
      "loss = 0.043686\n",
      "batch_data = 2 3 4, batch_label = 5, predicate = 4.790988\n",
      "loss = 0.004944\n",
      "batch_data = 2 1 2, batch_label = 3, predicate = 3.070316\n",
      "loss = 0.129500\n",
      "batch_data = 7 6 5, batch_label = 4, predicate = 4.359861\n",
      "loss = 0.001543\n",
      "batch_data = 8 9 10, batch_label = 9, predicate = 9.039282\n",
      "loss = 0.037402\n",
      "batch_data = 3 4 5, batch_label = 6, predicate = 6.193396\n",
      "loss = 0.029186\n",
      "batch_data = 1 2 3, batch_label = 4, predicate = 3.829160\n",
      "loss = 0.000124\n",
      "batch_data = 6 5 4, batch_label = 3, predicate = 3.011138\n",
      "loss = 0.817115\n",
      "batch_data = 9 10 9, batch_label = 8, predicate = 8.903944\n",
      "loss = 0.057070\n",
      "batch_data = 4 5 6, batch_label = 7, predicate = 6.761107\n",
      "loss = 0.074001\n",
      "batch_data = 2 3 4, batch_label = 5, predicate = 5.272031\n",
      "loss = 0.005770\n",
      "batch_data = 5 4 3, batch_label = 2, predicate = 1.924038\n",
      "loss = 0.063379\n",
      "batch_data = 10 9 8, batch_label = 7, predicate = 6.748247\n",
      "loss = 0.045090\n",
      "batch_data = 5 6 7, batch_label = 8, predicate = 8.212344\n",
      "loss = 0.095835\n",
      "batch_data = 3 4 5, batch_label = 6, predicate = 5.690427\n",
      "loss = 0.017309\n",
      "batch_data = 4 3 2, batch_label = 1, predicate = 1.131564\n",
      "loss = 0.173356\n",
      "batch_data = 9 8 7, batch_label = 6, predicate = 6.416361\n",
      "loss = 0.301690\n",
      "batch_data = 6 7 8, batch_label = 9, predicate = 8.450737\n",
      "loss = 0.039246\n",
      "batch_data = 1 2 3, batch_label = 4, predicate = 4.198107\n",
      "loss = 0.007660\n",
      "batch_data = 3 2 1, batch_label = 2, predicate = 1.912480\n",
      "loss = 0.135320\n",
      "batch_data = 8 7 6, batch_label = 5, predicate = 4.632142\n",
      "loss = 0.477455\n",
      "batch_data = 7 8 9, batch_label = 10, predicate = 9.309019\n",
      "loss = 0.029248\n",
      "batch_data = 2 3 4, batch_label = 5, predicate = 4.828979\n",
      "loss = 0.019741\n",
      "batch_data = 2 1 2, batch_label = 3, predicate = 3.140501\n",
      "loss = 0.073626\n",
      "batch_data = 7 6 5, batch_label = 4, predicate = 4.271341\n",
      "loss = 0.067538\n",
      "batch_data = 8 9 10, batch_label = 9, predicate = 9.259881\n",
      "loss = 0.037419\n",
      "batch_data = 3 4 5, batch_label = 6, predicate = 6.193440\n",
      "loss = 0.034847\n",
      "batch_data = 1 2 3, batch_label = 4, predicate = 3.813326\n",
      "loss = 0.004771\n",
      "batch_data = 6 5 4, batch_label = 3, predicate = 3.069071\n",
      "loss = 0.655908\n",
      "batch_data = 9 10 9, batch_label = 8, predicate = 8.809881\n",
      "loss = 0.063735\n",
      "batch_data = 4 5 6, batch_label = 7, predicate = 6.747542\n",
      "loss = 0.074692\n",
      "batch_data = 2 3 4, batch_label = 5, predicate = 5.273299\n",
      "loss = 0.011791\n",
      "batch_data = 5 4 3, batch_label = 2, predicate = 1.891413\n",
      "loss = 0.133680\n",
      "batch_data = 10 9 8, batch_label = 7, predicate = 6.634377\n",
      "loss = 0.035341\n",
      "batch_data = 5 6 7, batch_label = 8, predicate = 8.187993\n",
      "loss = 0.095587\n",
      "batch_data = 3 4 5, batch_label = 6, predicate = 5.690829\n",
      "loss = 0.014207\n",
      "batch_data = 4 3 2, batch_label = 1, predicate = 1.119193\n",
      "loss = 0.020946\n",
      "batch_data = 9 8 7, batch_label = 6, predicate = 6.144726\n",
      "loss = 0.109961\n",
      "batch_data = 6 7 8, batch_label = 9, predicate = 8.668397\n",
      "loss = 0.038121\n",
      "batch_data = 1 2 3, batch_label = 4, predicate = 4.195246\n",
      "loss = 0.005708\n",
      "batch_data = 3 2 1, batch_label = 2, predicate = 1.924446\n",
      "loss = 0.022214\n",
      "batch_data = 8 7 6, batch_label = 5, predicate = 4.850956\n",
      "loss = 0.363933\n",
      "batch_data = 7 8 9, batch_label = 10, predicate = 9.396731\n",
      "loss = 0.016848\n",
      "batch_data = 2 3 4, batch_label = 5, predicate = 4.870201\n",
      "loss = 0.015983\n",
      "batch_data = 2 1 2, batch_label = 3, predicate = 3.126423\n",
      "loss = 0.009537\n",
      "batch_data = 7 6 5, batch_label = 4, predicate = 4.097659\n",
      "loss = 0.285449\n",
      "batch_data = 8 9 10, batch_label = 9, predicate = 9.534274\n",
      "loss = 0.002399\n",
      "batch_data = 3 4 5, batch_label = 6, predicate = 5.951025\n",
      "loss = 0.000224\n",
      "batch_data = 1 2 3, batch_label = 4, predicate = 3.985027\n",
      "loss = 0.002631\n",
      "batch_data = 6 5 4, batch_label = 3, predicate = 2.948707\n",
      "loss = 0.044836\n",
      "batch_data = 9 10 9, batch_label = 8, predicate = 8.211745\n",
      "loss = 0.012010\n",
      "batch_data = 4 5 6, batch_label = 7, predicate = 7.109591\n",
      "loss = 0.085748\n",
      "batch_data = 2 3 4, batch_label = 5, predicate = 5.292828\n",
      "loss = 0.080638\n",
      "batch_data = 5 4 3, batch_label = 2, predicate = 2.283968\n",
      "loss = 0.084384\n",
      "batch_data = 10 9 8, batch_label = 7, predicate = 6.709510\n"
     ]
    }
   ],
   "source": [
    "steps = 10000\n",
    "with tf.Session(graph=graph) as session:\n",
    "    tf.initialize_all_variables().run()\n",
    "    print('Initialized')\n",
    "    for step in range(steps):\n",
    "        off = step * batch_size % (24 - n_steps)\n",
    "        temp = np.array(input_data[off:off+n_steps])\n",
    "        batch_data = temp.reshape(1, 3, 1)\n",
    "        batch_label = np.array(target[off+n_steps - 1]).reshape(1, -1)\n",
    "        feed_dict = {inputs:batch_data, labels:batch_label}\n",
    "        p, l, _ = session.run([pred, loss, op], feed_dict=feed_dict)\n",
    "        if step % 100 == 0:\n",
    "            print('loss = %f' % (l))\n",
    "            print('batch_data = %d %d %d, batch_label = %d, predicate = %f' % (batch_data[0, 0, 0],batch_data[0, 1, 0],batch_data[0, 2, 0], batch_label[0, 0], p))"
   ]
  },
  {
   "cell_type": "code",
   "execution_count": 114,
   "metadata": {
    "collapsed": false
   },
   "outputs": [
    {
     "name": "stdout",
     "output_type": "stream",
     "text": [
      "(1, 1)\n",
      "(1, 1)\n",
      "(1, 1)\n",
      "(1, 1)\n",
      "(1, 1)\n",
      "(1, 1)\n",
      "(1, 1)\n",
      "(1, 1)\n",
      "(1, 1)\n",
      "(1, 1)\n"
     ]
    }
   ],
   "source": [
    "for step in range(0, 10):\n",
    "    off = step * batch_size % (11 - n_steps)\n",
    "    temp = np.array(target[off + n_steps - 1])\n",
    "    batch = temp.reshape(1, -1)\n",
    "    print(batch.shape)"
   ]
  },
  {
   "cell_type": "code",
   "execution_count": 37,
   "metadata": {
    "collapsed": false
   },
   "outputs": [
    {
     "name": "stdout",
     "output_type": "stream",
     "text": [
      "8.29696655273e-05\n"
     ]
    }
   ],
   "source": [
    "import time\n",
    "start_time = time.time()\n",
    "du = time.time() - start_time\n",
    "print(du)"
   ]
  },
  {
   "cell_type": "code",
   "execution_count": null,
   "metadata": {
    "collapsed": true
   },
   "outputs": [],
   "source": []
  }
 ],
 "metadata": {
  "kernelspec": {
   "display_name": "Python 2",
   "language": "python",
   "name": "python2"
  },
  "language_info": {
   "codemirror_mode": {
    "name": "ipython",
    "version": 2
   },
   "file_extension": ".py",
   "mimetype": "text/x-python",
   "name": "python",
   "nbconvert_exporter": "python",
   "pygments_lexer": "ipython2",
   "version": "2.7.11"
  }
 },
 "nbformat": 4,
 "nbformat_minor": 0
}
